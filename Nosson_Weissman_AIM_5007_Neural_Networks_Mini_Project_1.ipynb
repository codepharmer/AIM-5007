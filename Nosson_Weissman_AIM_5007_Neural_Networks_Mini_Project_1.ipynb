{
 "cells": [
  {
   "cell_type": "markdown",
   "id": "59c5e177",
   "metadata": {},
   "source": [
    "**Nosson Weissman** <br>\n",
    "**Mini Project 1** <br>\n",
    "**AIM 5007** <br>\n",
    "**Professor M. Schulte** <br>\n",
    "\n",
    "*continuation of problem set 3* <br>"
   ]
  },
  {
   "cell_type": "markdown",
   "id": "39f5fa8a",
   "metadata": {},
   "source": [
    "## Below are the functions created in problem set 3\n",
    "### I will assume an understanding of these functions while through the mini project"
   ]
  },
  {
   "cell_type": "code",
   "execution_count": 1857,
   "id": "54ca9ad8",
   "metadata": {},
   "outputs": [],
   "source": [
    "import numpy as np\n",
    "from numpy import random\n",
    "import matplotlib.pyplot as plt\n",
    "import seaborn as sns\n",
    "import csv\n",
    "from sklearn.metrics import confusion_matrix"
   ]
  },
  {
   "cell_type": "code",
   "execution_count": 1858,
   "id": "52438723",
   "metadata": {},
   "outputs": [],
   "source": [
    "def sigmoid(x):\n",
    "    return 1/(1+np.exp(-x))\n",
    "#just in case I want it later on ...\n",
    "def relu(x):\n",
    "    return x * (x > 0)"
   ]
  },
  {
   "cell_type": "code",
   "execution_count": 1859,
   "id": "54b5c7b1",
   "metadata": {},
   "outputs": [],
   "source": [
    "def weight_initializer(dimensions):\n",
    "    weight_matrix = (-0.5 * random.random_sample((dimensions[0]-1, dimensions[1])) + 0.5)\n",
    "    bias_weight = (np.full((1,dimensions[1]),(-0.5*random.random_sample()+0.5)))\n",
    "    weight_matrix = np.insert(weight_matrix, dimensions[0]-1, bias_weight, axis=0)\n",
    "    return weight_matrix\n",
    "# weight_initializer((8,3))"
   ]
  },
  {
   "cell_type": "code",
   "execution_count": 1860,
   "id": "68f04b8a",
   "metadata": {},
   "outputs": [],
   "source": [
    "def append_1(vector):\n",
    "    return np.insert(vector[0], len(vector[0]), 1, axis=0)"
   ]
  },
  {
   "cell_type": "code",
   "execution_count": 1861,
   "id": "ef9f5771",
   "metadata": {},
   "outputs": [],
   "source": [
    "def calculate_raw(vector, weights):\n",
    "    vector = append_1(vector)\n",
    "    return np.dot(vector, weights)"
   ]
  },
  {
   "cell_type": "code",
   "execution_count": 1862,
   "id": "4aab1dcb",
   "metadata": {},
   "outputs": [],
   "source": [
    "def activate_nodes(layer, activation_function):\n",
    "    return activation_function(layer)"
   ]
  },
  {
   "cell_type": "code",
   "execution_count": 1863,
   "id": "7dc9b161",
   "metadata": {},
   "outputs": [],
   "source": [
    "def calculate_square_error(Tout_layer, targ_layer):\n",
    "    return 0.5*((targ_layer-Tout_layer)**2).sum()"
   ]
  },
  {
   "cell_type": "code",
   "execution_count": 1864,
   "id": "fd03fb8b",
   "metadata": {},
   "outputs": [],
   "source": [
    "def hid_to_out_node_gradient(Tout_k, targ_k, hid_layer):\n",
    "    return ((Tout_k - targ_k) * Tout_k * (1- Tout_k) *hid_layer)[:-1]"
   ]
  },
  {
   "cell_type": "code",
   "execution_count": 1865,
   "id": "7e5b6311",
   "metadata": {},
   "outputs": [],
   "source": [
    "def biasO_node_to_out_node_gradient(Tout_layer, targ_layer):\n",
    "    bias_gradient = 0\n",
    "    if len(Tout_layer) != len(targ_layer):\n",
    "        raise Exception('output layer and target layer are not same length, but they should be.\\n \\\n",
    "            Please check the area code and the number and try again!')\n",
    "    for i in range(len(Tout_layer)):\n",
    "        bias_gradient += (Tout_layer[i]-targ_layer[i])*Tout_layer[i]*(1-Tout_layer[i])\n",
    "    return bias_gradient"
   ]
  },
  {
   "cell_type": "code",
   "execution_count": 1866,
   "id": "0bc39bea",
   "metadata": {},
   "outputs": [],
   "source": [
    "def input_to_hid_node_gradients(input_layer, Thid_layer, Tout_layer, Wout, target_output):\n",
    "    gradients = []\n",
    "    for i in range(len(Thid_layer)):\n",
    "        grad_scalar = 0\n",
    "        Thid_i = Thid_layer[i]\n",
    "        for j in range(len(Tout_layer)):\n",
    "            Tout_j = Tout_layer[j]\n",
    "            targ_j = target_output[j]\n",
    "            grad_scalar += (Tout_j-targ_j)*Tout_j*(1-Tout_j)*Wout.T[j][i]\n",
    "        curr_gradient = (grad_scalar*Thid_i*(1-Thid_i)*input_layer[0])\n",
    "        gradients.append(curr_gradient)\n",
    "    return gradients"
   ]
  },
  {
   "cell_type": "code",
   "execution_count": 1867,
   "id": "b0b4f9cd",
   "metadata": {},
   "outputs": [],
   "source": [
    "def biasH_node_to_out_gradient(Thid_layer, Tout_layer, target_layer, hid_to_out_W):\n",
    "    bias_to_out_gradient = 0\n",
    "    if len(Tout_layer) != len(target_layer):\n",
    "        raise Exception('Output layer and target layer are not same length, but they should be.')\n",
    "    for i in range(len(Thid_layer)):\n",
    "        for j in range(len(Tout_layer)):\n",
    "            Thid_i = Thid_layer[i]\n",
    "            Tout_j = Tout_layer[j]\n",
    "            targ_j = target_layer[j]\n",
    "            Wji = hid_to_out_W[j][i]\n",
    "            bias_to_out_gradient += (Tout_j-targ_j)*Tout_j*(1-Tout_j)*Wji*Thid_i*(1-Thid_i)\n",
    "    return bias_to_out_gradient\n",
    "# temp_w =  np.array([np.array([0.5, -0.3, 0.2]),np.array([0.2, -0.3, 0.1])])\n",
    "# biasH_node_to_out_gradient(np.array([0.03916572, 0.73105858, 0.96770454]),np.array([0.5729277,  0.54618944]), np.array([0.65, 0.4]),temp_w)\n",
    "# temp_w[1][2]"
   ]
  },
  {
   "cell_type": "code",
   "execution_count": 1868,
   "id": "213dfb55",
   "metadata": {},
   "outputs": [],
   "source": [
    "def update_weights(gradients, old_W, alpha):\n",
    "#     alpha is learning rate\n",
    "    return old_W - alpha*gradients"
   ]
  },
  {
   "cell_type": "code",
   "execution_count": 1869,
   "id": "b834d1eb",
   "metadata": {},
   "outputs": [],
   "source": [
    "def one_hot_encoder(num, number_of_output_nodes):\n",
    "    if num < 0 or type(num) != int or num > number_of_output_nodes:\n",
    "        raise Exception('Error in one-hot-encoder')\n",
    "    vector = np.array([0]*number_of_output_nodes)\n",
    "    vector[num-1] = 1\n",
    "    return vector"
   ]
  },
  {
   "cell_type": "code",
   "execution_count": 1870,
   "id": "6136eff3",
   "metadata": {},
   "outputs": [],
   "source": [
    "def observation_runthrough(seed_data, inp_to_hid_W, hid_to_out_W, output_node_count, learning_rate = 0.2):\n",
    "    input_layer = np.array([seed_data[:-1]])\n",
    "#while testing function with HW2 data we comment out following code\n",
    "    output_number = int(seed_data[-1])\n",
    "    target_output = np.array(one_hot_encoder(output_number, output_node_count))\n",
    "    #while testing function with HW2 data we use the following code\n",
    "#     input_layer = [seed_data]\n",
    "#     target_output = np.array([0.65, 0.4])\n",
    "\n",
    "    if inp_to_hid_W is None:\n",
    "    #initialize weights if they are not yet set\n",
    "        inp_to_hid_W = weight_initializer((8,7))\n",
    "        hid_to_out_W = weight_initializer((8,3))\n",
    "    \n",
    "    #calculate hidden layer\n",
    "    hid_raw = calculate_raw(input_layer, inp_to_hid_W)\n",
    "    Thid_layer = activate_nodes(hid_raw, sigmoid)\n",
    "    \n",
    "    #calculate output layer\n",
    "    out_raw = calculate_raw(np.array([Thid_layer]), hid_to_out_W)\n",
    "    Tout_layer = activate_nodes(out_raw, sigmoid)\n",
    "    \n",
    "    #calculate error\n",
    "    error = calculate_square_error(Tout_layer.T, target_output)\n",
    "    \n",
    "    #caculate gradient from input to hidden layer\n",
    "    hid_to_out_gradient = []\n",
    "    curr_gradient=None\n",
    "    for i in range(len(Tout_layer)):\n",
    "        Tout_i = Tout_layer[i]\n",
    "        targ_i = target_output[i]\n",
    "        curr_gradient = hid_to_out_node_gradient(Tout_i, targ_i, np.append(Thid_layer,1))\n",
    "        hid_to_out_gradient.append(curr_gradient)\n",
    "    hid_to_out_gradient = np.array(hid_to_out_gradient)\n",
    "\n",
    "    \n",
    "    #cacluate gradient from hidden layer to output\n",
    "    inp_to_hid_gradient = input_to_hid_node_gradients(input_layer, Thid_layer, Tout_layer, hid_to_out_W, target_output)\n",
    "    inp_to_hid_gradient = np.array(inp_to_hid_gradient)\n",
    "    \n",
    "    #calculate gradients for biases\n",
    "    bias_hid_to_out_gradient = biasO_node_to_out_node_gradient(Tout_layer, target_output)\n",
    "    bias_inp_to_hid_gradient = biasH_node_to_out_gradient(Thid_layer, Tout_layer, target_output, hid_to_out_W.T)\n",
    "    \n",
    "    #update input layer weights\n",
    "    old_input_bias = inp_to_hid_W[-1]\n",
    "    inp_to_hid_W =  update_weights(inp_to_hid_gradient, inp_to_hid_W[:-1].T, learning_rate)\n",
    "    #update input bias node (we use an array for gradients as we will need it to insert to matrix)\n",
    "    inp_bias_gradient = np.full((1,len(inp_to_hid_gradient)),bias_inp_to_hid_gradient)\n",
    "    updated_inp_bias = update_weights(inp_bias_gradient, old_input_bias,learning_rate)\n",
    "    #insert bias as a row in matrix\n",
    "    inp_to_hid_W = np.insert(inp_to_hid_W,len(inp_to_hid_W.T), updated_inp_bias, axis=1)\n",
    "    \n",
    "    #update output layer weights\n",
    "    old_output_bias = hid_to_out_W[-1]\n",
    "    hid_to_out_W =  update_weights(hid_to_out_gradient, hid_to_out_W[:-1].T, learning_rate)\n",
    "    #update output bias node (we use an array for gradients as we will need it to insert to matrix)\n",
    "    out_bias_gradient = np.full((1,len(hid_to_out_gradient)),bias_hid_to_out_gradient) \n",
    "    updated_out_bias = update_weights(out_bias_gradient, old_output_bias,learning_rate)\n",
    "    #insert bias as a row in matrix\n",
    "    hid_to_out_W = np.insert(hid_to_out_W,hid_to_out_W.shape[1], updated_out_bias, axis=1)\n",
    "    \n",
    "    \n",
    "    #update hidden layer\n",
    "    updated_hid_raw = calculate_raw(input_layer,inp_to_hid_W.T)\n",
    "    updated_hid_layer = activate_nodes(updated_hid_raw, sigmoid)\n",
    "    \n",
    "    #update out layer \n",
    "    updated_out_raw = calculate_raw([updated_hid_layer], hid_to_out_W.T)\n",
    "    updated_out_layer = activate_nodes(updated_out_raw, sigmoid)\n",
    "    \n",
    "    \n",
    "    updated_error = calculate_square_error(updated_out_layer, target_output)\n",
    "    #return updated weights and error\n",
    "    return [inp_to_hid_W, hid_to_out_W, updated_error]"
   ]
  },
  {
   "cell_type": "markdown",
   "id": "2a2b8555",
   "metadata": {},
   "source": [
    "## Here's where the mini project starts"
   ]
  },
  {
   "cell_type": "markdown",
   "id": "07122f4c",
   "metadata": {},
   "source": [
    "**Read in data from seeds dataset:**"
   ]
  },
  {
   "cell_type": "code",
   "execution_count": 1871,
   "id": "054b0794",
   "metadata": {},
   "outputs": [],
   "source": [
    "seeds = None\n",
    "with open('C:/Users/Wesso/Desktop/YU School Stuff/Neural Networks/AIM-5007/seeds_dataset.txt', newline='\\n') as csvfile:\n",
    "    csv_reader = csv.reader(csvfile, delimiter=' ', quotechar='|')\n",
    "    seeds = [row for row in csv_reader]\n",
    "    for i in range(len(seeds)):\n",
    "        row = seeds[i]\n",
    "        #clean up data and convert to an array\n",
    "        row = np.asarray([datum.strip() for datum in row[0].split('\\t') if datum.strip() != ''], dtype=np.float64)\n",
    "        seeds[i] = row\n",
    "        "
   ]
  },
  {
   "cell_type": "markdown",
   "id": "09350903",
   "metadata": {},
   "source": [
    "#### Normalize data values (!!) "
   ]
  },
  {
   "cell_type": "code",
   "execution_count": 1872,
   "id": "6ede90ca",
   "metadata": {},
   "outputs": [],
   "source": [
    "new_seeds = seeds/np.mean(seeds, axis=0)\n",
    "#this will restore the orginal output vals\n",
    "new_seeds[:,-1] *= 2\n",
    "seeds = new_seeds"
   ]
  },
  {
   "cell_type": "markdown",
   "id": "f58c9c9f",
   "metadata": {},
   "source": [
    "#### Shuffle dataset"
   ]
  },
  {
   "cell_type": "code",
   "execution_count": 1873,
   "id": "d096eea6",
   "metadata": {},
   "outputs": [],
   "source": [
    "#use seed so that results are reproducible\n",
    "np.random.seed(0)\n",
    "#shuffle the seeds dataset (as it starts off being in order)\n",
    "np.random.shuffle(seeds)\n"
   ]
  },
  {
   "cell_type": "markdown",
   "id": "94476e34",
   "metadata": {},
   "source": [
    "#### Define model training function"
   ]
  },
  {
   "cell_type": "code",
   "execution_count": 1874,
   "id": "8dcbc6f4",
   "metadata": {},
   "outputs": [],
   "source": [
    "def seeds_model_trainer(training_size, epochs, learning_rate, data):\n",
    "    seeds = data\n",
    "    # since we're using one hot encoding, we need to know \n",
    "    # the max integer output to determine the number of nodes in the output\n",
    "    output_node_count = int(seeds.max(axis=0)[-1])\n",
    "    error_list = []\n",
    "    inp_to_hid_W = None\n",
    "    hid_to_out_W = None\n",
    "    for i in range(epochs):\n",
    "        for j in range(len(seeds[:150])):\n",
    "            runthrough_j =  observation_runthrough(seeds[j], inp_to_hid_W, hid_to_out_W, output_node_count,learning_rate)\n",
    "            if(j == test_size-1):\n",
    "                error_list.append(runthrough_j[-1])\n",
    "            inp_to_hid_W = runthrough_j[0].T\n",
    "            hid_to_out_W = runthrough_j[1].T\n",
    "    error_list = np.array(error_list)\n",
    "    return error_list, inp_to_hid_W, hid_to_out_W"
   ]
  },
  {
   "cell_type": "markdown",
   "id": "c4eb5813",
   "metadata": {},
   "source": [
    "#### Here we assign our hyperparameters"
   ]
  },
  {
   "cell_type": "code",
   "execution_count": 1920,
   "id": "53e080e3",
   "metadata": {},
   "outputs": [],
   "source": [
    "#we're doing an 80/20 split for train/test\n",
    "training_size = int(.8*int(len(seeds)))\n",
    "testing_size = len(seeds)-training_size\n",
    "epochs = 300\n",
    "learning_rate = 0.2"
   ]
  },
  {
   "cell_type": "markdown",
   "id": "97a1d2b6",
   "metadata": {},
   "source": [
    "#### Train the model and get error and new weights"
   ]
  },
  {
   "cell_type": "code",
   "execution_count": 1921,
   "id": "6fe7b7b0",
   "metadata": {},
   "outputs": [],
   "source": [
    "error_list,inp_to_hid_W, hid_to_out_W = seeds_model_trainer(training_size, epochs, learning_rate, seeds)"
   ]
  },
  {
   "cell_type": "markdown",
   "id": "d43e0c25",
   "metadata": {},
   "source": [
    "#### Below is the mean mean (it's very mean) over the last 20 epochs"
   ]
  },
  {
   "cell_type": "code",
   "execution_count": 1922,
   "id": "0fc6a0fb",
   "metadata": {
    "scrolled": true
   },
   "outputs": [
    {
     "data": {
      "text/plain": [
       "0.015603073675143131"
      ]
     },
     "execution_count": 1922,
     "metadata": {},
     "output_type": "execute_result"
    }
   ],
   "source": [
    "np.mean(error_list[-20:-1])"
   ]
  },
  {
   "cell_type": "markdown",
   "id": "5324407f",
   "metadata": {},
   "source": [
    "### Training results"
   ]
  },
  {
   "cell_type": "code",
   "execution_count": 1923,
   "id": "41e9c42e",
   "metadata": {
    "scrolled": false
   },
   "outputs": [
    {
     "data": {
      "image/png": "[encoded data removed]",
      "text/plain": [
       "<Figure size 432x288 with 1 Axes>"
      ]
     },
     "metadata": {
      "needs_background": "light"
     },
     "output_type": "display_data"
    },
    {
     "data": {
      "image/png": "[encoded data removed]",
      "text/plain": [
       "<Figure size 432x288 with 1 Axes>"
      ]
     },
     "metadata": {
      "needs_background": "light"
     },
     "output_type": "display_data"
    }
   ],
   "source": [
    "plt.title('ERROR TRAINING GRAPHED')\n",
    "plt.xlabel('EPOCH')\n",
    "plt.ylabel('ERROR')\n",
    "plt.plot(error_list)\n",
    "plt.show()\n",
    "plt.title('ERROR TRAINING GRAPHED')\n",
    "plt.xlabel('EPOCH')\n",
    "plt.ylabel('ERROR')\n",
    "plt.plot(np.arange(len(error_list)-30,len(error_list)), error_list[-30:])\n",
    "plt.show()"
   ]
  },
  {
   "cell_type": "markdown",
   "id": "e0c62e3c",
   "metadata": {},
   "source": [
    "### Test using the rest of the data"
   ]
  },
  {
   "cell_type": "code",
   "execution_count": 1924,
   "id": "c8781942",
   "metadata": {},
   "outputs": [
    {
     "data": {
      "text/plain": [
       "168"
      ]
     },
     "execution_count": 1924,
     "metadata": {},
     "output_type": "execute_result"
    }
   ],
   "source": [
    "training_size"
   ]
  },
  {
   "cell_type": "code",
   "execution_count": 1925,
   "id": "58bd255a",
   "metadata": {
    "scrolled": true
   },
   "outputs": [
    {
     "name": "stderr",
     "output_type": "stream",
     "text": [
      "C:\\Users\\Wesso\\Anaconda3\\lib\\site-packages\\seaborn\\_decorators.py:43: FutureWarning: Pass the following variables as keyword args: x, y. From version 0.12, the only valid positional argument will be `data`, and passing other arguments without an explicit keyword will result in an error or misinterpretation.\n",
      "  FutureWarning\n"
     ]
    },
    {
     "data": {
      "image/png": "[encoded data removed]",
      "text/plain": [
       "<Figure size 432x288 with 1 Axes>"
      ]
     },
     "metadata": {
      "needs_background": "light"
     },
     "output_type": "display_data"
    },
    {
     "name": "stdout",
     "output_type": "stream",
     "text": [
      "model accuracy:  0.9523809523809523\n"
     ]
    }
   ],
   "source": [
    "start_index = training_size\n",
    "correctness_arr = [False]*testing_size\n",
    "y_pred = []\n",
    "y_actual = []\n",
    "for i in range(start_index,start_index+test_size):\n",
    "    input_layer, output = seeds[i][:-1], seeds[i][-1] \n",
    "    \n",
    "    #calculate hidden layer\n",
    "    hid_raw = calculate_raw([input_layer], inp_to_hid_W)\n",
    "    Thid_layer = activate_nodes(hid_raw, sigmoid)\n",
    "    \n",
    "    #calculate output layer\n",
    "    out_raw = calculate_raw(np.array([Thid_layer]), hid_to_out_W)\n",
    "    Tout_layer = activate_nodes(out_raw, sigmoid)\n",
    "    \n",
    "    #seeds dataset is larger than the size of the correcteness array so we offest the index\n",
    "    correctness_arr[i-start_index] = int(int(np.argmax(Tout_layer, axis=0)+1) == int(output))\n",
    "    \n",
    "    #save the results to separate lists to be used for a confusion matrix\n",
    "    y_actual.append(int(output))\n",
    "    y_pred.append(int(np.argmax(Tout_layer, axis=0)+1))\n",
    "    \n",
    "cm = confusion_matrix(y_actual, y_pred)\n",
    "correctness = np.histogram(correctness_arr, bins=2)[0]\n",
    "sns.barplot(['False', 'True'],correctness)\n",
    "plt.title('Correctness')\n",
    "plt.show()\n",
    "print('model accuracy: ',np.mean(correctness_arr))"
   ]
  },
  {
   "cell_type": "code",
   "execution_count": null,
   "id": "2c4bbaa3",
   "metadata": {},
   "outputs": [],
   "source": [
    "\n",
    "cm = confusion_matrix(y_actual, y_pred)\n",
    "sns.heatmap(cm, annot=True)\n",
    "plt.title(\"Results Confusion Matrix\")\n",
    "plt.show()"
   ]
  },
  {
   "cell_type": "code",
   "execution_count": 1926,
   "id": "896a68bd",
   "metadata": {},
   "outputs": [
    {
     "data": {
      "image/png": "[encoded data removed]",
      "text/plain": [
       "<Figure size 432x288 with 2 Axes>"
      ]
     },
     "metadata": {
      "needs_background": "light"
     },
     "output_type": "display_data"
    }
   ],
   "source": []
  },
  {
   "cell_type": "markdown",
   "id": "5db23efd",
   "metadata": {},
   "source": [
    "### My project experience: <br>\n",
    "**I began with the functions from problem set 3. <br>\n",
    "Basically all the work was already done. <br>\n",
    "I saved the weights after each iteration. <br>\n",
    "Spent a bunch of time not understanding why my error wasn't improving. <br>\n",
    "Realized that I needed to normalize the data. <br>\n",
    "Saw the magic of neural network training. <br>\n",
    "I started with epochs in the low double digits, but I soon realized that results can vary. <br>\n",
    "Sometimes I would get .88 with 30 epochs, but then sometimes it would drop way down.  <br>\n",
    "I tried a much larger number and graphed the error over time. <br>\n",
    "300 seemed to be a good number of epochs. <br>\n",
    "Similar experience for the learning rate.** <br>\n"
   ]
  },
  {
   "cell_type": "markdown",
   "id": "d9574264",
   "metadata": {},
   "source": [
    "### Final results"
   ]
  },
  {
   "cell_type": "code",
   "execution_count": 1810,
   "id": "f7be373e",
   "metadata": {
    "scrolled": false
   },
   "outputs": [
    {
     "name": "stdout",
     "output_type": "stream",
     "text": [
      "Error after training:  0.02321099812520665\n",
      "inp_to_hid weights after training:  [[ 5.51337928e+00  4.60188171e-02 -8.33626685e+00  5.21772858e+00\n",
      "  -1.04302912e+01  4.67141673e+00 -4.64530470e+00]\n",
      " [ 8.63716924e-01  3.24236280e-01  9.60243305e-01 -1.38526025e+00\n",
      "  -1.07949855e+00 -1.15461509e+00 -2.17925764e-01]\n",
      " [-1.02820982e+00  1.91299864e-01  8.20269957e+00 -7.21320481e+00\n",
      "   3.93978478e+00 -5.30991979e+00  3.07283178e+00]\n",
      " [-1.67218185e-01  3.10518157e-01  3.51318103e+00 -3.02855049e+00\n",
      "   1.85096849e-01 -2.56309555e+00  7.69413348e-01]\n",
      " [ 3.47570324e+00  1.38234884e-01  4.38427397e-01 -8.79254761e-01\n",
      "  -4.34999139e+00 -6.55295278e-01 -9.46846929e-01]\n",
      " [-3.55549428e+00  3.24247899e-01  1.89870387e-03 -3.05020579e-01\n",
      "   1.21289787e+00  6.31192389e-01 -2.55701408e+00]\n",
      " [-6.32789925e+00  7.81730709e-01 -5.72227436e+00  4.47150873e+00\n",
      "   7.30411663e+00  2.05117716e+00  1.02879529e+00]\n",
      " [ 2.37863820e+00  2.37863820e+00  2.37863820e+00  2.37863820e+00\n",
      "   2.37863820e+00  2.37863820e+00  2.37863820e+00]]\n",
      "hid_to_out weights after training:  [[ 3.77309973  0.26346344 -6.3498964 ]\n",
      " [-2.76023592  1.01415407  0.65092123]\n",
      " [ 6.67189433 -5.5613084   3.21407333]\n",
      " [-4.20958505  4.73760363 -2.47272377]\n",
      " [-7.40699109 -2.75230997  6.98989647]\n",
      " [-2.00172313  4.30645938 -2.76276853]\n",
      " [-0.56352956 -4.02977077  3.49626573]\n",
      " [-1.28393229 -1.28393229 -1.28393229]]\n"
     ]
    }
   ],
   "source": [
    "print('Error after training: ', error_list[-1])\n",
    "print('inp_to_hid weights after training: ',inp_to_hid_W)\n",
    "print('hid_to_out weights after training: ', hid_to_out_W)"
   ]
  }
 ],
 "metadata": {
  "kernelspec": {
   "display_name": "Python 3",
   "language": "python",
   "name": "python3"
  },
  "language_info": {
   "codemirror_mode": {
    "name": "ipython",
    "version": 3
   },
   "file_extension": ".py",
   "mimetype": "text/x-python",
   "name": "python",
   "nbconvert_exporter": "python",
   "pygments_lexer": "ipython3",
   "version": "3.7.4"
  }
 },
 "nbformat": 4,
 "nbformat_minor": 5
}
