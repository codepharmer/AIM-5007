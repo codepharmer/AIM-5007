{
 "cells": [
  {
   "cell_type": "markdown",
   "id": "5356da7c",
   "metadata": {},
   "source": [
    "\n",
    "__Nosson Weissman__ <br>\n",
    "AIM 5007: Neural Networks and Deep Learning <br>\n",
    "Fall 2021 <br>\n",
    "Deliverable1 <br>"
   ]
  },
  {
   "cell_type": "code",
   "execution_count": 46,
   "id": "09ae282d",
   "metadata": {},
   "outputs": [],
   "source": [
    "import numpy as np\n",
    "import pandas as pd\n",
    "import random\n",
    "import matplotlib.pyplot as plt\n",
    "import seaborn as sns"
   ]
  },
  {
   "cell_type": "code",
   "execution_count": 47,
   "id": "5227f9d8",
   "metadata": {
    "scrolled": true
   },
   "outputs": [
    {
     "data": {
      "text/html": [
       "<div>\n",
       "<style scoped>\n",
       "    .dataframe tbody tr th:only-of-type {\n",
       "        vertical-align: middle;\n",
       "    }\n",
       "\n",
       "    .dataframe tbody tr th {\n",
       "        vertical-align: top;\n",
       "    }\n",
       "\n",
       "    .dataframe thead th {\n",
       "        text-align: right;\n",
       "    }\n",
       "</style>\n",
       "<table border=\"1\" class=\"dataframe\">\n",
       "  <thead>\n",
       "    <tr style=\"text-align: right;\">\n",
       "      <th></th>\n",
       "      <th>x</th>\n",
       "      <th>y</th>\n",
       "      <th>label</th>\n",
       "    </tr>\n",
       "  </thead>\n",
       "  <tbody>\n",
       "    <tr>\n",
       "      <th>0</th>\n",
       "      <td>6195</td>\n",
       "      <td>9071</td>\n",
       "      <td>1.0</td>\n",
       "    </tr>\n",
       "    <tr>\n",
       "      <th>1</th>\n",
       "      <td>926</td>\n",
       "      <td>390</td>\n",
       "      <td>-1.0</td>\n",
       "    </tr>\n",
       "    <tr>\n",
       "      <th>2</th>\n",
       "      <td>2317</td>\n",
       "      <td>3523</td>\n",
       "      <td>1.0</td>\n",
       "    </tr>\n",
       "    <tr>\n",
       "      <th>3</th>\n",
       "      <td>1197</td>\n",
       "      <td>7789</td>\n",
       "      <td>1.0</td>\n",
       "    </tr>\n",
       "    <tr>\n",
       "      <th>4</th>\n",
       "      <td>525</td>\n",
       "      <td>6788</td>\n",
       "      <td>1.0</td>\n",
       "    </tr>\n",
       "  </tbody>\n",
       "</table>\n",
       "</div>"
      ],
      "text/plain": [
       "      x     y  label\n",
       "0  6195  9071    1.0\n",
       "1   926   390   -1.0\n",
       "2  2317  3523    1.0\n",
       "3  1197  7789    1.0\n",
       "4   525  6788    1.0"
      ]
     },
     "execution_count": 47,
     "metadata": {},
     "output_type": "execute_result"
    }
   ],
   "source": [
    "#Use appropriate pandas data import, insert the file path\n",
    "df = pd.read_csv('./RandomData.csv')\n",
    "df = df.drop(['Unnamed: 0'], axis=1)\n",
    "df.head()"
   ]
  },
  {
   "cell_type": "code",
   "execution_count": 48,
   "id": "813a973b",
   "metadata": {},
   "outputs": [],
   "source": [
    "X = df[df.columns[0:2]].to_numpy()\n",
    "y = df[df.columns[2]].to_numpy()"
   ]
  },
  {
   "cell_type": "code",
   "execution_count": 49,
   "id": "26ca4e44",
   "metadata": {},
   "outputs": [],
   "source": [
    "def sign(a):\n",
    "    if a >= 0:\n",
    "        return 1\n",
    "    else:\n",
    "        return -1\n",
    "\n",
    "def confusion_matrix(y_predicted, y_actual, prints = False):\n",
    "    true_positive = []\n",
    "    true_negative = []\n",
    "    false_positive = []\n",
    "    false_negative = []\n",
    "    for i in range(len(y_actual)):\n",
    "        if (y_actual[i] == 1) and (y_predicted[i] == 1):\n",
    "            true_positive.append(i)\n",
    "        elif (y_actual[i] == -1) and (y_predicted[i] == -1):\n",
    "            true_negative.append(i)\n",
    "        elif (y_actual[i] == -1) and (y_predicted[i] == 1):\n",
    "            false_positive.append(i)\n",
    "        elif (y_actual[i] == 1) and (y_predicted[i] == -1):\n",
    "            false_negative.append(i)\n",
    "    if prints:\n",
    "        print(\"\\nTrue Positive Count:\", len(true_positive))\n",
    "        print(\"False Positive Count:\", len(false_positive))\n",
    "        print(\"False Negative Count:\", len(false_negative))\n",
    "        print(\"True Negative Count:\", len(true_negative))\n",
    "        print(\"\\nAccuracy:\", 100*(len(true_positive) + len(true_negative))/len(y_actual), \"%\")\n",
    "    return np.array(true_positive), np.array(false_positive), np.array(false_negative), np.array(true_negative)\n",
    "\n",
    "#initialize weights\n",
    "w = (2 * np.random.random_sample(3)) - 1\n",
    "\n",
    "def perceptron_update(X, y, false_indices, w_old):\n",
    "    i = int(np.random.choice(false_indices))\n",
    "    w0 = w_old[0] + (y[i]*X[i,0])\n",
    "    w1 = w_old[1] + (y[i]*X[i,1])\n",
    "    w2 = w_old[2] + y[i]\n",
    "    return np.array([w0, w1, w2])\n",
    "\n",
    "def perceptron_predict(X, w):\n",
    "    y_predicted = np.zeros(X.shape[0])\n",
    "    for i in range(X.shape[0]):\n",
    "        y_predicted[i] = sign((w[0]*X[i,0]) + (w[1]*X[i,1]) + w[2])    \n",
    "    return y_predicted\n",
    "\n",
    "def perceptron_train(X, y, w_initial, max_iterations = 10000):\n",
    "    iterations = 0\n",
    "    w = w_initial\n",
    "    while iterations < max_iterations:\n",
    "        y_predicted = perceptron_predict(X, w)  \n",
    "        true_pos, false_pos, false_neg, true_neg = confusion_matrix(y_predicted, y)\n",
    "        accuracy = (len(true_pos) + len(true_neg))/len(y)\n",
    "        if accuracy == 1:\n",
    "            break\n",
    "        #What are the false indicies?\n",
    "        false_indices = np.concatenate((false_pos, false_neg))\n",
    "        #Apply the function defined above to update weights\n",
    "        w = perceptron_update(X, y, false_indices, w)\n",
    "        iterations += 1\n",
    "    print(\"# of iterations:\", iterations)\n",
    "    print(\"\\nFinal Weight Vector:\", w)\n",
    "    return w"
   ]
  },
  {
   "cell_type": "code",
   "execution_count": 50,
   "id": "1fef9814",
   "metadata": {},
   "outputs": [
    {
     "name": "stdout",
     "output_type": "stream",
     "text": [
      "# of iterations: 369\n",
      "\n",
      "Final Weight Vector: [-8.94558419e+04  8.94446099e+04  7.35653859e+00]\n",
      "\n",
      "True Positive Count: 756\n",
      "False Positive Count: 0\n",
      "False Negative Count: 0\n",
      "True Negative Count: 744\n",
      "\n",
      "Accuracy: 100.0 %\n"
     ]
    }
   ],
   "source": [
    "w = perceptron_train(X, y, w)\n",
    "y_predicted = perceptron_predict(X, w)\n",
    "tp, fp, fn, tn = confusion_matrix(y_predicted, y, True)"
   ]
  }
 ],
 "metadata": {
  "kernelspec": {
   "display_name": "Python 3",
   "language": "python",
   "name": "python3"
  },
  "language_info": {
   "codemirror_mode": {
    "name": "ipython",
    "version": 3
   },
   "file_extension": ".py",
   "mimetype": "text/x-python",
   "name": "python",
   "nbconvert_exporter": "python",
   "pygments_lexer": "ipython3",
   "version": "3.7.4"
  }
 },
 "nbformat": 4,
 "nbformat_minor": 5
}
