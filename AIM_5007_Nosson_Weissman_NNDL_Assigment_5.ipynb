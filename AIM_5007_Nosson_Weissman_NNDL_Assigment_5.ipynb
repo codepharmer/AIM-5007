{
 "cells": [
  {
   "cell_type": "markdown",
   "id": "65bee256",
   "metadata": {},
   "source": [
    "**Nosson Weissman** <br>\n",
    "**Assignment 5** <br>\n",
    "**AIM 5007** <br>\n",
    "**Professor M. Schulte** <br>"
   ]
  },
  {
   "cell_type": "markdown",
   "id": "c636afd8",
   "metadata": {},
   "source": [
    "## Part 1:\n",
    "**Baseball dataset:** <br>\n",
    "Predict salaries"
   ]
  },
  {
   "cell_type": "code",
   "execution_count": 233,
   "id": "d831d2d0",
   "metadata": {},
   "outputs": [],
   "source": [
    "import numpy as np\n",
    "import pandas as pd\n",
    "from tensorflow.keras.models import Sequential\n",
    "from tensorflow.keras.layers import Dense, Activation\n",
    "from tensorflow.keras.callbacks import EarlyStopping\n",
    "from tensorflow.keras.optimizers import Adam, SGD \n",
    "from tensorflow import random\n",
    "import matplotlib.pyplot as plt\n",
    "%matplotlib inline"
   ]
  },
  {
   "cell_type": "markdown",
   "id": "5eaab91e",
   "metadata": {},
   "source": [
    "#### Import Data"
   ]
  },
  {
   "cell_type": "code",
   "execution_count": 234,
   "id": "256565bb",
   "metadata": {
    "scrolled": true
   },
   "outputs": [],
   "source": [
    "#imported the data from \n",
    "X = pd.read_csv('https://gist.githubusercontent.com/keeganhines/59974f1ebef97bbaa44fb19143f90bad/raw/d9bcf657f97201394a59fffd801c44347eb7e28d/Hitters.csv')\n",
    "X = X[~X.isnull().any(axis=1)]\n",
    "#used a correlation matrix to determine which columns don't relate to salary\n",
    "X = X.drop(['Unnamed: 0','League', 'Division', 'NewLeague', 'Errors', 'Assists' ], axis=1)\n",
    "nml_X = X/X.max().astype(np.float64)\n",
    "# nml_X = nml_X/np.mean(nml_X, axis=0) \n",
    "salary_col = nml_X.Salary\n",
    "# nml_X.corr()\n",
    "\n",
    "nml_X = nml_X.drop('Salary', axis=1)"
   ]
  },
  {
   "cell_type": "code",
   "execution_count": 235,
   "id": "d68be3eb",
   "metadata": {
    "scrolled": true
   },
   "outputs": [],
   "source": [
    "#used this fucntion when I was trying to slove as a classification problem\n",
    "# def salary_converter(val):\n",
    "# #     num = 0\n",
    "#     if val < 0 or val > 2460:\n",
    "#         raise Exception('One hot encoder received a value less than 0')\n",
    "#     if val < 190.0:\n",
    "#         return np.array([1,0,0,0])\n",
    "#     if val < 425.0:\n",
    "#         return np.array([0,1,0,0])\n",
    "#     if val < 750.0:\n",
    "#         return np.array([0,0,1,0])\n",
    "#     if val <= 2460.0:\n",
    "#         return np.array([0,0,0,1])\n",
    "# #     if val < 190.0:\n",
    "# #         return 0\n",
    "# #     if val < 425.0:\n",
    "# #         return 1\n",
    "# #     if val < 750.0:\n",
    "# #         return 2\n",
    "# #     if val <= 2460.0:\n",
    "# #         return 3\n",
    "# #     return \n",
    "# #     vector = np.array([0]*number_of_output_nodes)\n",
    "# #     vector[num-1] = 1\n",
    "# #     return vector\n",
    "# output = [salary_converter(x) for x in salary_col]\n",
    "# output = np.array(output)"
   ]
  },
  {
   "cell_type": "code",
   "execution_count": 236,
   "id": "be416526",
   "metadata": {},
   "outputs": [],
   "source": [
    "np.random.seed(42)"
   ]
  },
  {
   "cell_type": "code",
   "execution_count": 237,
   "id": "e53fbb19",
   "metadata": {},
   "outputs": [],
   "source": [
    "random.set_seed(42)"
   ]
  },
  {
   "cell_type": "code",
   "execution_count": 238,
   "id": "85a1b2ea",
   "metadata": {
    "scrolled": true
   },
   "outputs": [
    {
     "data": {
      "text/plain": [
       "array([0.45851528, 0.34033613, 0.175     , 0.18461538, 0.31404959,\n",
       "       0.37142857, 0.58333333, 0.24542802, 0.19619361, 0.12591241,\n",
       "       0.1482679 , 0.24954792, 0.2394636 , 0.45896877])"
      ]
     },
     "execution_count": 238,
     "metadata": {},
     "output_type": "execute_result"
    }
   ],
   "source": [
    "np.array(nml_X)[0]"
   ]
  },
  {
   "cell_type": "markdown",
   "id": "b37e90d0",
   "metadata": {},
   "source": [
    "Spent a considerable amount of time trying (with limited success) to do this problem as a classification problem, where the salaries are in a range. <br>\n",
    "After asking around it seems that regression is the best way to approach the solution, so here's what that would look like: <br>"
   ]
  },
  {
   "cell_type": "code",
   "execution_count": 239,
   "id": "02efa974",
   "metadata": {
    "scrolled": true
   },
   "outputs": [
    {
     "name": "stdout",
     "output_type": "stream",
     "text": [
      "Model: \"sequential_68\"\n",
      "_________________________________________________________________\n",
      " Layer (type)                Output Shape              Param #   \n",
      "=================================================================\n",
      " dense_271 (Dense)           (None, 13)                195       \n",
      "                                                                 \n",
      " dense_272 (Dense)           (None, 10)                140       \n",
      "                                                                 \n",
      " dense_273 (Dense)           (None, 10)                110       \n",
      "                                                                 \n",
      " dense_274 (Dense)           (None, 10)                110       \n",
      "                                                                 \n",
      " dense_275 (Dense)           (None, 1)                 11        \n",
      "                                                                 \n",
      "=================================================================\n",
      "Total params: 566\n",
      "Trainable params: 566\n",
      "Non-trainable params: 0\n",
      "_________________________________________________________________\n"
     ]
    },
    {
     "data": {
      "text/plain": [
       "None"
      ]
     },
     "metadata": {},
     "output_type": "display_data"
    }
   ],
   "source": [
    "model = Sequential()\n",
    "model.add(Dense(len(np.array(nml_X)[0])-1,activation='sigmoid', input_dim=len(np.array(nml_X)[0])))\n",
    "#hidden layer\n",
    "model.add(Dense(10,activation='sigmoid'))\n",
    "model.add(Dense(10,activation='sigmoid'))\n",
    "model.add(Dense(10,activation='sigmoid'))\n",
    "#output layer\n",
    "model.add(Dense(1, activation='sigmoid'))\n",
    "#I used mse as a loss function, as this seems to be our goto \n",
    "# loss function and it seemed to work fine\n",
    "model.compile(optimizer='sgd', loss='mean_squared_error', metrics=[])\n",
    "display(model.summary())\n",
    "history = model.fit(nml_X,salary_col,epochs=200,verbose=0,validation_split=0.2,shuffle=False)"
   ]
  },
  {
   "cell_type": "code",
   "execution_count": 240,
   "id": "e0a2f3da",
   "metadata": {},
   "outputs": [
    {
     "data": {
      "image/png": "[encoded data removed]",
      "text/plain": [
       "<Figure size 432x288 with 1 Axes>"
      ]
     },
     "metadata": {
      "needs_background": "light"
     },
     "output_type": "display_data"
    }
   ],
   "source": [
    "plt.plot(history.history['loss'])\n",
    "plt.plot(history.history['val_loss'])\n",
    "plt.title('Model loss')\n",
    "plt.ylabel('Loss')\n",
    "plt.xlabel('Epoch')\n",
    "plt.legend(['Train', 'Validation'], loc=\"upper left\")\n",
    "plt.show()"
   ]
  },
  {
   "cell_type": "code",
   "execution_count": 241,
   "id": "486620d1",
   "metadata": {},
   "outputs": [
    {
     "data": {
      "image/png": "[encoded data removed]",
      "text/plain": [
       "<Figure size 432x288 with 1 Axes>"
      ]
     },
     "metadata": {
      "needs_background": "light"
     },
     "output_type": "display_data"
    }
   ],
   "source": [
    "test_example = np.array([[0.78039338, 1.29781496, 1.15621134, 0.99654036, 1.25295742,\n",
    "       0.8886538 , 1.44083272, 0.7511901 , 0.60242147, 2.17398015,\n",
    "       0.6380548 , 0.43839422, 0.94858041, 1.91471659]])\n",
    "\n",
    "pred_salary = model.predict(test_example)[0][0]*X['Salary'].max()\n",
    "\n",
    "fig = plt.figure()\n",
    "plt.title('Predicted annual salary (in thousands) for test example', size=14)\n",
    "plt.hist(salary_col*X['Salary'].max(), label='salary dist')\n",
    "plt.axvline(x=pred_salary, color='r', \n",
    "                label='predicted salary: '+str(pred_salary))\n",
    "plt.legend()\n",
    "plt.show()"
   ]
  },
  {
   "cell_type": "markdown",
   "id": "9bbc567e",
   "metadata": {},
   "source": [
    "## Part 2:\n",
    "**Seeds dataset** <br>\n",
    "Train using Keras"
   ]
  },
  {
   "cell_type": "code",
   "execution_count": 299,
   "id": "0c71ff80",
   "metadata": {},
   "outputs": [],
   "source": [
    "import csv\n",
    "seeds = None\n",
    "with open('C:/Users/Wesso/Desktop/YU School Stuff/Neural Networks/AIM-5007/seeds_dataset.txt', newline='\\n') as csvfile:\n",
    "    csv_reader = csv.reader(csvfile, delimiter=' ', quotechar='|')\n",
    "    seeds = [row for row in csv_reader]\n",
    "    for i in range(len(seeds)):\n",
    "        row = seeds[i]\n",
    "        #clean up data and convert to an array\n",
    "        row = np.asarray([datum.strip() for datum in row[0].split('\\t') if datum.strip() != ''], dtype=np.float64)\n",
    "        seeds[i] = row\n",
    "seeds = np.array(seeds)\n",
    "np.random.shuffle(seeds)"
   ]
  },
  {
   "cell_type": "code",
   "execution_count": 301,
   "id": "f1634eb8",
   "metadata": {},
   "outputs": [],
   "source": [
    "# seeds = \n",
    "# #this will restore the orginal output vals\n",
    "# new_seeds[:,-1] *= 2\n",
    "# X = seeds[:,:-1]/ seeds[:,:-1].max().astype(np.float64)\n",
    "X = seeds[:,:-1]/np.mean(seeds[:,:-1], axis=0)\n",
    "y = pd.get_dummies(seeds[:,-1])\n",
    "# new_seeds[:,-1] = pd.get_dummies(seeds[:,-1])\n",
    "# seeds = new_seeds"
   ]
  },
  {
   "cell_type": "code",
   "execution_count": 302,
   "id": "d9a987ce",
   "metadata": {},
   "outputs": [
    {
     "data": {
      "text/plain": [
       "array([0.84121771, 0.9244959 , 0.99403148, 0.93576775, 0.91051239,\n",
       "       1.19479997, 0.92491382])"
      ]
     },
     "execution_count": 302,
     "metadata": {},
     "output_type": "execute_result"
    }
   ],
   "source": [
    "X[0]"
   ]
  },
  {
   "cell_type": "code",
   "execution_count": 303,
   "id": "d696de58",
   "metadata": {},
   "outputs": [
    {
     "name": "stdout",
     "output_type": "stream",
     "text": [
      "Model: \"sequential_72\"\n",
      "_________________________________________________________________\n",
      " Layer (type)                Output Shape              Param #   \n",
      "=================================================================\n",
      " dense_285 (Dense)           (None, 8)                 64        \n",
      "                                                                 \n",
      " dense_286 (Dense)           (None, 8)                 72        \n",
      "                                                                 \n",
      " dense_287 (Dense)           (None, 3)                 27        \n",
      "                                                                 \n",
      "=================================================================\n",
      "Total params: 163\n",
      "Trainable params: 163\n",
      "Non-trainable params: 0\n",
      "_________________________________________________________________\n"
     ]
    },
    {
     "data": {
      "text/plain": [
       "None"
      ]
     },
     "metadata": {},
     "output_type": "display_data"
    },
    {
     "name": "stdout",
     "output_type": "stream",
     "text": [
      "Epoch 1/200\n",
      "6/6 [==============================] - 0s 26ms/step - loss: 1.2112 - accuracy: 0.3152 - val_loss: 1.1230 - val_accuracy: 0.3556\n",
      "Epoch 2/200\n",
      "6/6 [==============================] - 0s 6ms/step - loss: 1.1275 - accuracy: 0.2727 - val_loss: 1.0796 - val_accuracy: 0.4000\n",
      "Epoch 3/200\n",
      "6/6 [==============================] - 0s 6ms/step - loss: 1.0846 - accuracy: 0.3758 - val_loss: 1.1033 - val_accuracy: 0.2444\n",
      "Epoch 4/200\n",
      "6/6 [==============================] - 0s 7ms/step - loss: 1.0713 - accuracy: 0.4606 - val_loss: 1.0639 - val_accuracy: 0.3778\n",
      "Epoch 5/200\n",
      "6/6 [==============================] - 0s 7ms/step - loss: 1.0367 - accuracy: 0.4788 - val_loss: 1.0148 - val_accuracy: 0.4889\n",
      "Epoch 6/200\n",
      "6/6 [==============================] - 0s 6ms/step - loss: 0.9588 - accuracy: 0.5818 - val_loss: 0.9401 - val_accuracy: 0.5111\n",
      "Epoch 7/200\n",
      "6/6 [==============================] - 0s 6ms/step - loss: 0.8564 - accuracy: 0.5818 - val_loss: 0.8862 - val_accuracy: 0.5111\n",
      "Epoch 8/200\n",
      "6/6 [==============================] - 0s 6ms/step - loss: 0.7560 - accuracy: 0.5879 - val_loss: 0.8721 - val_accuracy: 0.5111\n",
      "Epoch 9/200\n",
      "6/6 [==============================] - 0s 6ms/step - loss: 0.7142 - accuracy: 0.5879 - val_loss: 0.8835 - val_accuracy: 0.5111\n",
      "Epoch 10/200\n",
      "6/6 [==============================] - 0s 6ms/step - loss: 0.6962 - accuracy: 0.5939 - val_loss: 0.9212 - val_accuracy: 0.4889\n",
      "Epoch 11/200\n",
      "6/6 [==============================] - 0s 6ms/step - loss: 0.6620 - accuracy: 0.6667 - val_loss: 0.9887 - val_accuracy: 0.4667\n",
      "Epoch 12/200\n",
      "6/6 [==============================] - 0s 6ms/step - loss: 0.6502 - accuracy: 0.6303 - val_loss: 0.8405 - val_accuracy: 0.6667\n",
      "Epoch 13/200\n",
      "6/6 [==============================] - 0s 6ms/step - loss: 0.5710 - accuracy: 0.6970 - val_loss: 0.7902 - val_accuracy: 0.6889\n",
      "Epoch 14/200\n",
      "6/6 [==============================] - 0s 6ms/step - loss: 0.5305 - accuracy: 0.8485 - val_loss: 0.8121 - val_accuracy: 0.6000\n",
      "Epoch 15/200\n",
      "6/6 [==============================] - 0s 6ms/step - loss: 0.5248 - accuracy: 0.7697 - val_loss: 0.8820 - val_accuracy: 0.5111\n",
      "Epoch 16/200\n",
      "6/6 [==============================] - 0s 6ms/step - loss: 0.5334 - accuracy: 0.7455 - val_loss: 0.7819 - val_accuracy: 0.6222\n",
      "Epoch 17/200\n",
      "6/6 [==============================] - 0s 6ms/step - loss: 0.4845 - accuracy: 0.7758 - val_loss: 0.5420 - val_accuracy: 0.8222\n",
      "Epoch 18/200\n",
      "6/6 [==============================] - 0s 6ms/step - loss: 0.3719 - accuracy: 0.8242 - val_loss: 0.4821 - val_accuracy: 0.8222\n",
      "Epoch 19/200\n",
      "6/6 [==============================] - 0s 7ms/step - loss: 0.3053 - accuracy: 0.8788 - val_loss: 0.4303 - val_accuracy: 0.8667\n",
      "Epoch 20/200\n",
      "6/6 [==============================] - 0s 6ms/step - loss: 0.2766 - accuracy: 0.9091 - val_loss: 0.4077 - val_accuracy: 0.8444\n",
      "Epoch 21/200\n",
      "6/6 [==============================] - 0s 6ms/step - loss: 0.2764 - accuracy: 0.8970 - val_loss: 0.3778 - val_accuracy: 0.8667\n",
      "Epoch 22/200\n",
      "6/6 [==============================] - 0s 7ms/step - loss: 0.2758 - accuracy: 0.8909 - val_loss: 0.3648 - val_accuracy: 0.8667\n",
      "Epoch 23/200\n",
      "6/6 [==============================] - 0s 6ms/step - loss: 0.2904 - accuracy: 0.8667 - val_loss: 0.3688 - val_accuracy: 0.8667\n",
      "Epoch 24/200\n",
      "6/6 [==============================] - 0s 6ms/step - loss: 0.3042 - accuracy: 0.8727 - val_loss: 0.3999 - val_accuracy: 0.8667\n",
      "Epoch 25/200\n",
      "6/6 [==============================] - 0s 7ms/step - loss: 0.2944 - accuracy: 0.8848 - val_loss: 0.5088 - val_accuracy: 0.8000\n",
      "Epoch 26/200\n",
      "6/6 [==============================] - 0s 6ms/step - loss: 0.3114 - accuracy: 0.8788 - val_loss: 0.5336 - val_accuracy: 0.7778\n",
      "Epoch 27/200\n",
      "6/6 [==============================] - 0s 6ms/step - loss: 0.3186 - accuracy: 0.8606 - val_loss: 0.4099 - val_accuracy: 0.8444\n",
      "Epoch 28/200\n",
      "6/6 [==============================] - 0s 7ms/step - loss: 0.2564 - accuracy: 0.8788 - val_loss: 0.3449 - val_accuracy: 0.8667\n",
      "Epoch 29/200\n",
      "6/6 [==============================] - 0s 6ms/step - loss: 0.1972 - accuracy: 0.9030 - val_loss: 0.3469 - val_accuracy: 0.8444\n",
      "Epoch 30/200\n",
      "6/6 [==============================] - 0s 6ms/step - loss: 0.2107 - accuracy: 0.9152 - val_loss: 0.3456 - val_accuracy: 0.8667\n",
      "Epoch 31/200\n",
      "6/6 [==============================] - 0s 6ms/step - loss: 0.2299 - accuracy: 0.8909 - val_loss: 0.3682 - val_accuracy: 0.8667\n",
      "Epoch 32/200\n",
      "6/6 [==============================] - 0s 6ms/step - loss: 0.2301 - accuracy: 0.8909 - val_loss: 0.4042 - val_accuracy: 0.8667\n",
      "Epoch 33/200\n",
      "6/6 [==============================] - 0s 6ms/step - loss: 0.2379 - accuracy: 0.9030 - val_loss: 0.3847 - val_accuracy: 0.8667\n",
      "Epoch 34/200\n",
      "6/6 [==============================] - 0s 6ms/step - loss: 0.2275 - accuracy: 0.8970 - val_loss: 0.3517 - val_accuracy: 0.8444\n",
      "Epoch 35/200\n",
      "6/6 [==============================] - 0s 6ms/step - loss: 0.1944 - accuracy: 0.9152 - val_loss: 0.3468 - val_accuracy: 0.8444\n",
      "Epoch 36/200\n",
      "6/6 [==============================] - 0s 6ms/step - loss: 0.1855 - accuracy: 0.9212 - val_loss: 0.3468 - val_accuracy: 0.8444\n",
      "Epoch 37/200\n",
      "6/6 [==============================] - 0s 6ms/step - loss: 0.2016 - accuracy: 0.9152 - val_loss: 0.3472 - val_accuracy: 0.8444\n",
      "Epoch 38/200\n",
      "6/6 [==============================] - 0s 5ms/step - loss: 0.2131 - accuracy: 0.8970 - val_loss: 0.3564 - val_accuracy: 0.8667\n",
      "Epoch 39/200\n",
      "6/6 [==============================] - 0s 7ms/step - loss: 0.2107 - accuracy: 0.8909 - val_loss: 0.3820 - val_accuracy: 0.8889\n",
      "Epoch 40/200\n",
      "6/6 [==============================] - 0s 6ms/step - loss: 0.2179 - accuracy: 0.9091 - val_loss: 0.3622 - val_accuracy: 0.8667\n",
      "Epoch 41/200\n",
      "6/6 [==============================] - 0s 6ms/step - loss: 0.2069 - accuracy: 0.9212 - val_loss: 0.3495 - val_accuracy: 0.8444\n",
      "Epoch 42/200\n",
      "6/6 [==============================] - 0s 7ms/step - loss: 0.1848 - accuracy: 0.9152 - val_loss: 0.3441 - val_accuracy: 0.8222\n",
      "Epoch 43/200\n",
      "6/6 [==============================] - 0s 8ms/step - loss: 0.1766 - accuracy: 0.9091 - val_loss: 0.3494 - val_accuracy: 0.8222\n",
      "Epoch 44/200\n",
      "6/6 [==============================] - 0s 7ms/step - loss: 0.1909 - accuracy: 0.9152 - val_loss: 0.3427 - val_accuracy: 0.8444\n",
      "Epoch 45/200\n",
      "6/6 [==============================] - 0s 6ms/step - loss: 0.2004 - accuracy: 0.8970 - val_loss: 0.3470 - val_accuracy: 0.8667\n",
      "Epoch 46/200\n",
      "6/6 [==============================] - 0s 7ms/step - loss: 0.1991 - accuracy: 0.8909 - val_loss: 0.3661 - val_accuracy: 0.8889\n",
      "Epoch 47/200\n",
      "6/6 [==============================] - 0s 6ms/step - loss: 0.2032 - accuracy: 0.9091 - val_loss: 0.3577 - val_accuracy: 0.8667\n",
      "Epoch 48/200\n",
      "6/6 [==============================] - 0s 7ms/step - loss: 0.1981 - accuracy: 0.9152 - val_loss: 0.3480 - val_accuracy: 0.8444\n",
      "Epoch 49/200\n",
      "6/6 [==============================] - 0s 7ms/step - loss: 0.1800 - accuracy: 0.9152 - val_loss: 0.3492 - val_accuracy: 0.8222\n",
      "Epoch 50/200\n",
      "6/6 [==============================] - 0s 7ms/step - loss: 0.1704 - accuracy: 0.9091 - val_loss: 0.3515 - val_accuracy: 0.8222\n",
      "Epoch 51/200\n",
      "6/6 [==============================] - 0s 6ms/step - loss: 0.1798 - accuracy: 0.9152 - val_loss: 0.3467 - val_accuracy: 0.8222\n",
      "Epoch 52/200\n",
      "6/6 [==============================] - 0s 5ms/step - loss: 0.1899 - accuracy: 0.9030 - val_loss: 0.3405 - val_accuracy: 0.8667\n",
      "Epoch 53/200\n",
      "6/6 [==============================] - 0s 5ms/step - loss: 0.1885 - accuracy: 0.9030 - val_loss: 0.3540 - val_accuracy: 0.8889\n",
      "Epoch 54/200\n",
      "6/6 [==============================] - 0s 6ms/step - loss: 0.1911 - accuracy: 0.9091 - val_loss: 0.3538 - val_accuracy: 0.8667\n",
      "Epoch 55/200\n",
      "6/6 [==============================] - 0s 6ms/step - loss: 0.1903 - accuracy: 0.9152 - val_loss: 0.3470 - val_accuracy: 0.8444\n",
      "Epoch 56/200\n",
      "6/6 [==============================] - 0s 6ms/step - loss: 0.1762 - accuracy: 0.9152 - val_loss: 0.3548 - val_accuracy: 0.8222\n",
      "Epoch 57/200\n",
      "6/6 [==============================] - 0s 5ms/step - loss: 0.1657 - accuracy: 0.9091 - val_loss: 0.3562 - val_accuracy: 0.8222\n",
      "Epoch 58/200\n",
      "6/6 [==============================] - 0s 6ms/step - loss: 0.1695 - accuracy: 0.9091 - val_loss: 0.3525 - val_accuracy: 0.8222\n",
      "Epoch 59/200\n"
     ]
    },
    {
     "name": "stdout",
     "output_type": "stream",
     "text": [
      "6/6 [==============================] - 0s 6ms/step - loss: 0.1776 - accuracy: 0.9212 - val_loss: 0.3403 - val_accuracy: 0.8222\n",
      "Epoch 60/200\n",
      "6/6 [==============================] - 0s 6ms/step - loss: 0.1768 - accuracy: 0.9030 - val_loss: 0.3414 - val_accuracy: 0.8667\n",
      "Epoch 61/200\n",
      "6/6 [==============================] - 0s 6ms/step - loss: 0.1772 - accuracy: 0.9091 - val_loss: 0.3472 - val_accuracy: 0.8889\n",
      "Epoch 62/200\n",
      "6/6 [==============================] - 0s 6ms/step - loss: 0.1800 - accuracy: 0.9333 - val_loss: 0.3451 - val_accuracy: 0.8667\n",
      "Epoch 63/200\n",
      "6/6 [==============================] - 0s 5ms/step - loss: 0.1732 - accuracy: 0.9212 - val_loss: 0.3534 - val_accuracy: 0.8222\n",
      "Epoch 64/200\n",
      "6/6 [==============================] - 0s 6ms/step - loss: 0.1644 - accuracy: 0.9273 - val_loss: 0.3600 - val_accuracy: 0.8222\n",
      "Epoch 65/200\n",
      "6/6 [==============================] - 0s 6ms/step - loss: 0.1611 - accuracy: 0.9333 - val_loss: 0.3573 - val_accuracy: 0.8222\n",
      "Epoch 66/200\n",
      "6/6 [==============================] - 0s 6ms/step - loss: 0.1620 - accuracy: 0.9333 - val_loss: 0.3501 - val_accuracy: 0.8222\n",
      "Epoch 67/200\n",
      "6/6 [==============================] - 0s 5ms/step - loss: 0.1623 - accuracy: 0.9333 - val_loss: 0.3428 - val_accuracy: 0.8444\n",
      "Epoch 68/200\n",
      "6/6 [==============================] - 0s 6ms/step - loss: 0.1613 - accuracy: 0.9333 - val_loss: 0.3397 - val_accuracy: 0.8444\n",
      "Epoch 69/200\n",
      "6/6 [==============================] - 0s 5ms/step - loss: 0.1616 - accuracy: 0.9333 - val_loss: 0.3386 - val_accuracy: 0.8444\n",
      "Epoch 70/200\n",
      "6/6 [==============================] - 0s 6ms/step - loss: 0.1631 - accuracy: 0.9333 - val_loss: 0.3358 - val_accuracy: 0.8444\n",
      "Epoch 71/200\n",
      "6/6 [==============================] - 0s 6ms/step - loss: 0.1647 - accuracy: 0.9273 - val_loss: 0.3321 - val_accuracy: 0.8667\n",
      "Epoch 72/200\n",
      "6/6 [==============================] - 0s 6ms/step - loss: 0.1669 - accuracy: 0.9333 - val_loss: 0.3301 - val_accuracy: 0.8667\n",
      "Epoch 73/200\n",
      "6/6 [==============================] - 0s 6ms/step - loss: 0.1690 - accuracy: 0.9333 - val_loss: 0.3328 - val_accuracy: 0.8444\n",
      "Epoch 74/200\n",
      "6/6 [==============================] - 0s 5ms/step - loss: 0.1696 - accuracy: 0.9333 - val_loss: 0.3456 - val_accuracy: 0.8444\n",
      "Epoch 75/200\n",
      "6/6 [==============================] - 0s 6ms/step - loss: 0.1673 - accuracy: 0.9455 - val_loss: 0.3707 - val_accuracy: 0.8444\n",
      "Epoch 76/200\n",
      "6/6 [==============================] - 0s 5ms/step - loss: 0.1632 - accuracy: 0.9455 - val_loss: 0.3929 - val_accuracy: 0.8444\n",
      "Epoch 77/200\n",
      "6/6 [==============================] - 0s 5ms/step - loss: 0.1626 - accuracy: 0.9455 - val_loss: 0.3999 - val_accuracy: 0.8444\n",
      "Epoch 78/200\n",
      "6/6 [==============================] - 0s 6ms/step - loss: 0.1649 - accuracy: 0.9515 - val_loss: 0.3900 - val_accuracy: 0.8444\n",
      "Epoch 79/200\n",
      "6/6 [==============================] - 0s 5ms/step - loss: 0.1637 - accuracy: 0.9455 - val_loss: 0.3719 - val_accuracy: 0.8444\n",
      "Epoch 80/200\n",
      "6/6 [==============================] - 0s 5ms/step - loss: 0.1583 - accuracy: 0.9515 - val_loss: 0.3588 - val_accuracy: 0.8444\n",
      "Epoch 81/200\n",
      "6/6 [==============================] - 0s 6ms/step - loss: 0.1532 - accuracy: 0.9576 - val_loss: 0.3495 - val_accuracy: 0.8444\n",
      "Epoch 82/200\n",
      "6/6 [==============================] - 0s 7ms/step - loss: 0.1494 - accuracy: 0.9455 - val_loss: 0.3369 - val_accuracy: 0.8444\n",
      "Epoch 83/200\n",
      "6/6 [==============================] - 0s 11ms/step - loss: 0.1455 - accuracy: 0.9576 - val_loss: 0.3234 - val_accuracy: 0.8444\n",
      "Epoch 84/200\n",
      "6/6 [==============================] - 0s 10ms/step - loss: 0.1434 - accuracy: 0.9455 - val_loss: 0.3123 - val_accuracy: 0.8444\n",
      "Epoch 85/200\n",
      "6/6 [==============================] - 0s 11ms/step - loss: 0.1450 - accuracy: 0.9455 - val_loss: 0.2996 - val_accuracy: 0.8444\n",
      "Epoch 86/200\n",
      "6/6 [==============================] - 0s 11ms/step - loss: 0.1496 - accuracy: 0.9333 - val_loss: 0.2834 - val_accuracy: 0.8889\n",
      "Epoch 87/200\n",
      "6/6 [==============================] - 0s 10ms/step - loss: 0.1576 - accuracy: 0.9333 - val_loss: 0.2724 - val_accuracy: 0.9111\n",
      "Epoch 88/200\n",
      "6/6 [==============================] - 0s 10ms/step - loss: 0.1704 - accuracy: 0.9273 - val_loss: 0.2764 - val_accuracy: 0.9111\n",
      "Epoch 89/200\n",
      "6/6 [==============================] - 0s 10ms/step - loss: 0.1862 - accuracy: 0.9273 - val_loss: 0.2869 - val_accuracy: 0.8889\n",
      "Epoch 90/200\n",
      "6/6 [==============================] - 0s 11ms/step - loss: 0.1896 - accuracy: 0.9273 - val_loss: 0.3287 - val_accuracy: 0.8667\n",
      "Epoch 91/200\n",
      "6/6 [==============================] - 0s 11ms/step - loss: 0.1828 - accuracy: 0.9212 - val_loss: 0.4845 - val_accuracy: 0.8222\n",
      "Epoch 92/200\n",
      "6/6 [==============================] - 0s 11ms/step - loss: 0.2028 - accuracy: 0.9394 - val_loss: 0.4886 - val_accuracy: 0.8444\n",
      "Epoch 93/200\n",
      "6/6 [==============================] - 0s 11ms/step - loss: 0.2316 - accuracy: 0.9030 - val_loss: 0.2595 - val_accuracy: 0.8889\n",
      "Epoch 94/200\n",
      "6/6 [==============================] - 0s 12ms/step - loss: 0.1624 - accuracy: 0.9212 - val_loss: 0.3236 - val_accuracy: 0.8889\n",
      "Epoch 95/200\n",
      "6/6 [==============================] - 0s 11ms/step - loss: 0.1894 - accuracy: 0.9394 - val_loss: 0.3628 - val_accuracy: 0.8667\n",
      "Epoch 96/200\n",
      "6/6 [==============================] - 0s 10ms/step - loss: 0.1815 - accuracy: 0.9333 - val_loss: 0.3295 - val_accuracy: 0.8667\n",
      "Epoch 97/200\n",
      "6/6 [==============================] - 0s 11ms/step - loss: 0.1594 - accuracy: 0.9333 - val_loss: 0.3508 - val_accuracy: 0.8444\n",
      "Epoch 98/200\n",
      "6/6 [==============================] - 0s 11ms/step - loss: 0.1890 - accuracy: 0.9091 - val_loss: 0.3363 - val_accuracy: 0.8889\n",
      "Epoch 99/200\n",
      "6/6 [==============================] - 0s 11ms/step - loss: 0.1761 - accuracy: 0.9273 - val_loss: 0.2625 - val_accuracy: 0.9111\n",
      "Epoch 100/200\n",
      "6/6 [==============================] - 0s 11ms/step - loss: 0.1704 - accuracy: 0.9333 - val_loss: 0.3467 - val_accuracy: 0.8667\n",
      "Epoch 101/200\n",
      "6/6 [==============================] - 0s 11ms/step - loss: 0.1586 - accuracy: 0.9455 - val_loss: 0.4432 - val_accuracy: 0.8444\n",
      "Epoch 102/200\n",
      "6/6 [==============================] - 0s 12ms/step - loss: 0.1766 - accuracy: 0.9455 - val_loss: 0.3467 - val_accuracy: 0.8444\n",
      "Epoch 103/200\n",
      "6/6 [==============================] - 0s 11ms/step - loss: 0.1516 - accuracy: 0.9394 - val_loss: 0.2509 - val_accuracy: 0.9111\n",
      "Epoch 104/200\n",
      "6/6 [==============================] - 0s 12ms/step - loss: 0.1341 - accuracy: 0.9333 - val_loss: 0.2939 - val_accuracy: 0.8667\n",
      "Epoch 105/200\n",
      "6/6 [==============================] - 0s 11ms/step - loss: 0.1507 - accuracy: 0.9394 - val_loss: 0.3807 - val_accuracy: 0.8667\n",
      "Epoch 106/200\n",
      "6/6 [==============================] - 0s 10ms/step - loss: 0.1599 - accuracy: 0.9333 - val_loss: 0.3504 - val_accuracy: 0.8444\n",
      "Epoch 107/200\n",
      "6/6 [==============================] - 0s 11ms/step - loss: 0.1435 - accuracy: 0.9576 - val_loss: 0.2866 - val_accuracy: 0.8889\n",
      "Epoch 108/200\n",
      "6/6 [==============================] - 0s 8ms/step - loss: 0.1294 - accuracy: 0.9394 - val_loss: 0.2731 - val_accuracy: 0.8889\n",
      "Epoch 109/200\n",
      "6/6 [==============================] - 0s 6ms/step - loss: 0.1326 - accuracy: 0.9455 - val_loss: 0.3507 - val_accuracy: 0.8667\n",
      "Epoch 110/200\n",
      "6/6 [==============================] - 0s 5ms/step - loss: 0.1405 - accuracy: 0.9576 - val_loss: 0.3791 - val_accuracy: 0.8444\n",
      "Epoch 111/200\n",
      "6/6 [==============================] - 0s 6ms/step - loss: 0.1423 - accuracy: 0.9636 - val_loss: 0.3398 - val_accuracy: 0.8667\n",
      "Epoch 112/200\n",
      "6/6 [==============================] - 0s 5ms/step - loss: 0.1310 - accuracy: 0.9636 - val_loss: 0.3012 - val_accuracy: 0.8889\n",
      "Epoch 113/200\n",
      "6/6 [==============================] - 0s 6ms/step - loss: 0.1239 - accuracy: 0.9515 - val_loss: 0.3044 - val_accuracy: 0.8667\n",
      "Epoch 114/200\n",
      "6/6 [==============================] - 0s 6ms/step - loss: 0.1275 - accuracy: 0.9455 - val_loss: 0.3421 - val_accuracy: 0.8667\n",
      "Epoch 115/200\n",
      "6/6 [==============================] - 0s 6ms/step - loss: 0.1311 - accuracy: 0.9515 - val_loss: 0.3688 - val_accuracy: 0.8667\n",
      "Epoch 116/200\n",
      "6/6 [==============================] - 0s 7ms/step - loss: 0.1350 - accuracy: 0.9576 - val_loss: 0.3615 - val_accuracy: 0.8667\n",
      "Epoch 117/200\n"
     ]
    },
    {
     "name": "stdout",
     "output_type": "stream",
     "text": [
      "6/6 [==============================] - 0s 10ms/step - loss: 0.1330 - accuracy: 0.9636 - val_loss: 0.3321 - val_accuracy: 0.8667\n",
      "Epoch 118/200\n",
      "6/6 [==============================] - 0s 9ms/step - loss: 0.1261 - accuracy: 0.9636 - val_loss: 0.3176 - val_accuracy: 0.8667\n",
      "Epoch 119/200\n",
      "6/6 [==============================] - 0s 8ms/step - loss: 0.1235 - accuracy: 0.9515 - val_loss: 0.3314 - val_accuracy: 0.8667\n",
      "Epoch 120/200\n",
      "6/6 [==============================] - 0s 9ms/step - loss: 0.1260 - accuracy: 0.9515 - val_loss: 0.3499 - val_accuracy: 0.8667\n",
      "Epoch 121/200\n",
      "6/6 [==============================] - 0s 9ms/step - loss: 0.1287 - accuracy: 0.9576 - val_loss: 0.3566 - val_accuracy: 0.8667\n",
      "Epoch 122/200\n",
      "6/6 [==============================] - 0s 8ms/step - loss: 0.1296 - accuracy: 0.9576 - val_loss: 0.3501 - val_accuracy: 0.8667\n",
      "Epoch 123/200\n",
      "6/6 [==============================] - 0s 6ms/step - loss: 0.1280 - accuracy: 0.9576 - val_loss: 0.3390 - val_accuracy: 0.8667\n",
      "Epoch 124/200\n",
      "6/6 [==============================] - 0s 5ms/step - loss: 0.1252 - accuracy: 0.9576 - val_loss: 0.3353 - val_accuracy: 0.8667\n",
      "Epoch 125/200\n",
      "6/6 [==============================] - 0s 6ms/step - loss: 0.1240 - accuracy: 0.9576 - val_loss: 0.3398 - val_accuracy: 0.8667\n",
      "Epoch 126/200\n",
      "6/6 [==============================] - 0s 5ms/step - loss: 0.1247 - accuracy: 0.9576 - val_loss: 0.3443 - val_accuracy: 0.8667\n",
      "Epoch 127/200\n",
      "6/6 [==============================] - 0s 6ms/step - loss: 0.1252 - accuracy: 0.9576 - val_loss: 0.3454 - val_accuracy: 0.8667\n",
      "Epoch 128/200\n",
      "6/6 [==============================] - 0s 6ms/step - loss: 0.1251 - accuracy: 0.9576 - val_loss: 0.3447 - val_accuracy: 0.8667\n",
      "Epoch 129/200\n",
      "6/6 [==============================] - 0s 6ms/step - loss: 0.1247 - accuracy: 0.9576 - val_loss: 0.3434 - val_accuracy: 0.8667\n",
      "Epoch 130/200\n",
      "6/6 [==============================] - 0s 6ms/step - loss: 0.1241 - accuracy: 0.9576 - val_loss: 0.3424 - val_accuracy: 0.8667\n",
      "Epoch 131/200\n",
      "6/6 [==============================] - 0s 6ms/step - loss: 0.1235 - accuracy: 0.9636 - val_loss: 0.3420 - val_accuracy: 0.8667\n",
      "Epoch 132/200\n",
      "6/6 [==============================] - 0s 6ms/step - loss: 0.1231 - accuracy: 0.9636 - val_loss: 0.3417 - val_accuracy: 0.8667\n",
      "Epoch 133/200\n",
      "6/6 [==============================] - 0s 5ms/step - loss: 0.1227 - accuracy: 0.9636 - val_loss: 0.3416 - val_accuracy: 0.8667\n",
      "Epoch 134/200\n",
      "6/6 [==============================] - 0s 6ms/step - loss: 0.1224 - accuracy: 0.9636 - val_loss: 0.3419 - val_accuracy: 0.8667\n",
      "Epoch 135/200\n",
      "6/6 [==============================] - 0s 5ms/step - loss: 0.1221 - accuracy: 0.9636 - val_loss: 0.3422 - val_accuracy: 0.8667\n",
      "Epoch 136/200\n",
      "6/6 [==============================] - 0s 6ms/step - loss: 0.1219 - accuracy: 0.9636 - val_loss: 0.3421 - val_accuracy: 0.8667\n",
      "Epoch 137/200\n",
      "6/6 [==============================] - 0s 6ms/step - loss: 0.1215 - accuracy: 0.9636 - val_loss: 0.3417 - val_accuracy: 0.8667\n",
      "Epoch 138/200\n",
      "6/6 [==============================] - 0s 6ms/step - loss: 0.1212 - accuracy: 0.9636 - val_loss: 0.3413 - val_accuracy: 0.8667\n",
      "Epoch 139/200\n",
      "6/6 [==============================] - 0s 6ms/step - loss: 0.1208 - accuracy: 0.9636 - val_loss: 0.3410 - val_accuracy: 0.8667\n",
      "Epoch 140/200\n",
      "6/6 [==============================] - 0s 6ms/step - loss: 0.1204 - accuracy: 0.9636 - val_loss: 0.3408 - val_accuracy: 0.8667\n",
      "Epoch 141/200\n",
      "6/6 [==============================] - 0s 6ms/step - loss: 0.1200 - accuracy: 0.9636 - val_loss: 0.3408 - val_accuracy: 0.8667\n",
      "Epoch 142/200\n",
      "6/6 [==============================] - 0s 6ms/step - loss: 0.1197 - accuracy: 0.9636 - val_loss: 0.3407 - val_accuracy: 0.8667\n",
      "Epoch 143/200\n",
      "6/6 [==============================] - 0s 6ms/step - loss: 0.1194 - accuracy: 0.9636 - val_loss: 0.3407 - val_accuracy: 0.8667\n",
      "Epoch 144/200\n",
      "6/6 [==============================] - 0s 6ms/step - loss: 0.1191 - accuracy: 0.9636 - val_loss: 0.3406 - val_accuracy: 0.8667\n",
      "Epoch 145/200\n",
      "6/6 [==============================] - 0s 5ms/step - loss: 0.1188 - accuracy: 0.9636 - val_loss: 0.3404 - val_accuracy: 0.8667\n",
      "Epoch 146/200\n",
      "6/6 [==============================] - 0s 5ms/step - loss: 0.1185 - accuracy: 0.9636 - val_loss: 0.3402 - val_accuracy: 0.8667\n",
      "Epoch 147/200\n",
      "6/6 [==============================] - 0s 6ms/step - loss: 0.1182 - accuracy: 0.9636 - val_loss: 0.3400 - val_accuracy: 0.8667\n",
      "Epoch 148/200\n",
      "6/6 [==============================] - 0s 6ms/step - loss: 0.1178 - accuracy: 0.9636 - val_loss: 0.3399 - val_accuracy: 0.8667\n",
      "Epoch 149/200\n",
      "6/6 [==============================] - 0s 5ms/step - loss: 0.1175 - accuracy: 0.9636 - val_loss: 0.3399 - val_accuracy: 0.8667\n",
      "Epoch 150/200\n",
      "6/6 [==============================] - 0s 5ms/step - loss: 0.1172 - accuracy: 0.9636 - val_loss: 0.3398 - val_accuracy: 0.8667\n",
      "Epoch 151/200\n",
      "6/6 [==============================] - 0s 6ms/step - loss: 0.1169 - accuracy: 0.9636 - val_loss: 0.3398 - val_accuracy: 0.8667\n",
      "Epoch 152/200\n",
      "6/6 [==============================] - 0s 6ms/step - loss: 0.1166 - accuracy: 0.9636 - val_loss: 0.3397 - val_accuracy: 0.8667\n",
      "Epoch 153/200\n",
      "6/6 [==============================] - 0s 11ms/step - loss: 0.1163 - accuracy: 0.9636 - val_loss: 0.3396 - val_accuracy: 0.8667\n",
      "Epoch 154/200\n",
      "6/6 [==============================] - 0s 10ms/step - loss: 0.1160 - accuracy: 0.9636 - val_loss: 0.3395 - val_accuracy: 0.8667\n",
      "Epoch 155/200\n",
      "6/6 [==============================] - 0s 11ms/step - loss: 0.1157 - accuracy: 0.9636 - val_loss: 0.3394 - val_accuracy: 0.8667\n",
      "Epoch 156/200\n",
      "6/6 [==============================] - 0s 11ms/step - loss: 0.1154 - accuracy: 0.9636 - val_loss: 0.3393 - val_accuracy: 0.8667\n",
      "Epoch 157/200\n",
      "6/6 [==============================] - 0s 11ms/step - loss: 0.1151 - accuracy: 0.9636 - val_loss: 0.3393 - val_accuracy: 0.8667\n",
      "Epoch 158/200\n",
      "6/6 [==============================] - 0s 11ms/step - loss: 0.1149 - accuracy: 0.9636 - val_loss: 0.3393 - val_accuracy: 0.8667\n",
      "Epoch 159/200\n",
      "6/6 [==============================] - 0s 13ms/step - loss: 0.1146 - accuracy: 0.9636 - val_loss: 0.3393 - val_accuracy: 0.8667\n",
      "Epoch 160/200\n",
      "6/6 [==============================] - 0s 11ms/step - loss: 0.1143 - accuracy: 0.9636 - val_loss: 0.3392 - val_accuracy: 0.8889\n",
      "Epoch 161/200\n",
      "6/6 [==============================] - 0s 11ms/step - loss: 0.1140 - accuracy: 0.9636 - val_loss: 0.3392 - val_accuracy: 0.8889\n",
      "Epoch 162/200\n",
      "6/6 [==============================] - 0s 12ms/step - loss: 0.1137 - accuracy: 0.9636 - val_loss: 0.3392 - val_accuracy: 0.8889\n",
      "Epoch 163/200\n",
      "6/6 [==============================] - 0s 11ms/step - loss: 0.1135 - accuracy: 0.9636 - val_loss: 0.3392 - val_accuracy: 0.8889\n",
      "Epoch 164/200\n",
      "6/6 [==============================] - 0s 11ms/step - loss: 0.1132 - accuracy: 0.9636 - val_loss: 0.3392 - val_accuracy: 0.8889\n",
      "Epoch 165/200\n",
      "6/6 [==============================] - 0s 11ms/step - loss: 0.1129 - accuracy: 0.9636 - val_loss: 0.3392 - val_accuracy: 0.8889\n",
      "Epoch 166/200\n",
      "6/6 [==============================] - 0s 12ms/step - loss: 0.1126 - accuracy: 0.9636 - val_loss: 0.3392 - val_accuracy: 0.8889\n",
      "Epoch 167/200\n",
      "6/6 [==============================] - 0s 11ms/step - loss: 0.1124 - accuracy: 0.9636 - val_loss: 0.3392 - val_accuracy: 0.8889\n",
      "Epoch 168/200\n",
      "6/6 [==============================] - 0s 11ms/step - loss: 0.1121 - accuracy: 0.9636 - val_loss: 0.3393 - val_accuracy: 0.8889\n",
      "Epoch 169/200\n",
      "6/6 [==============================] - 0s 10ms/step - loss: 0.1118 - accuracy: 0.9636 - val_loss: 0.3393 - val_accuracy: 0.8889\n",
      "Epoch 170/200\n",
      "6/6 [==============================] - 0s 11ms/step - loss: 0.1116 - accuracy: 0.9636 - val_loss: 0.3393 - val_accuracy: 0.8889\n",
      "Epoch 171/200\n",
      "6/6 [==============================] - 0s 11ms/step - loss: 0.1113 - accuracy: 0.9636 - val_loss: 0.3394 - val_accuracy: 0.8889\n",
      "Epoch 172/200\n",
      "6/6 [==============================] - 0s 11ms/step - loss: 0.1110 - accuracy: 0.9636 - val_loss: 0.3395 - val_accuracy: 0.8889\n",
      "Epoch 173/200\n",
      "6/6 [==============================] - 0s 11ms/step - loss: 0.1108 - accuracy: 0.9636 - val_loss: 0.3395 - val_accuracy: 0.8889\n",
      "Epoch 174/200\n",
      "6/6 [==============================] - 0s 11ms/step - loss: 0.1105 - accuracy: 0.9636 - val_loss: 0.3396 - val_accuracy: 0.8889\n",
      "Epoch 175/200\n"
     ]
    },
    {
     "name": "stdout",
     "output_type": "stream",
     "text": [
      "6/6 [==============================] - 0s 11ms/step - loss: 0.1103 - accuracy: 0.9636 - val_loss: 0.3397 - val_accuracy: 0.8889\n",
      "Epoch 176/200\n",
      "6/6 [==============================] - 0s 10ms/step - loss: 0.1100 - accuracy: 0.9636 - val_loss: 0.3398 - val_accuracy: 0.8889\n",
      "Epoch 177/200\n",
      "6/6 [==============================] - 0s 11ms/step - loss: 0.1098 - accuracy: 0.9636 - val_loss: 0.3399 - val_accuracy: 0.8889\n",
      "Epoch 178/200\n",
      "6/6 [==============================] - 0s 7ms/step - loss: 0.1095 - accuracy: 0.9636 - val_loss: 0.3400 - val_accuracy: 0.8889\n",
      "Epoch 179/200\n",
      "6/6 [==============================] - 0s 6ms/step - loss: 0.1093 - accuracy: 0.9636 - val_loss: 0.3401 - val_accuracy: 0.8889\n",
      "Epoch 180/200\n",
      "6/6 [==============================] - 0s 6ms/step - loss: 0.1090 - accuracy: 0.9636 - val_loss: 0.3403 - val_accuracy: 0.8889\n",
      "Epoch 181/200\n",
      "6/6 [==============================] - 0s 6ms/step - loss: 0.1088 - accuracy: 0.9636 - val_loss: 0.3404 - val_accuracy: 0.8889\n",
      "Epoch 182/200\n",
      "6/6 [==============================] - 0s 6ms/step - loss: 0.1085 - accuracy: 0.9636 - val_loss: 0.3405 - val_accuracy: 0.8889\n",
      "Epoch 183/200\n",
      "6/6 [==============================] - 0s 5ms/step - loss: 0.1083 - accuracy: 0.9636 - val_loss: 0.3407 - val_accuracy: 0.8889\n",
      "Epoch 184/200\n",
      "6/6 [==============================] - 0s 5ms/step - loss: 0.1080 - accuracy: 0.9636 - val_loss: 0.3408 - val_accuracy: 0.8889\n",
      "Epoch 185/200\n",
      "6/6 [==============================] - 0s 6ms/step - loss: 0.1078 - accuracy: 0.9636 - val_loss: 0.3410 - val_accuracy: 0.8889\n",
      "Epoch 186/200\n",
      "6/6 [==============================] - 0s 6ms/step - loss: 0.1076 - accuracy: 0.9636 - val_loss: 0.3411 - val_accuracy: 0.8889\n",
      "Epoch 187/200\n",
      "6/6 [==============================] - 0s 6ms/step - loss: 0.1073 - accuracy: 0.9636 - val_loss: 0.3413 - val_accuracy: 0.8889\n",
      "Epoch 188/200\n",
      "6/6 [==============================] - 0s 6ms/step - loss: 0.1071 - accuracy: 0.9636 - val_loss: 0.3415 - val_accuracy: 0.8889\n",
      "Epoch 189/200\n",
      "6/6 [==============================] - 0s 5ms/step - loss: 0.1069 - accuracy: 0.9636 - val_loss: 0.3416 - val_accuracy: 0.8889\n",
      "Epoch 190/200\n",
      "6/6 [==============================] - 0s 6ms/step - loss: 0.1066 - accuracy: 0.9636 - val_loss: 0.3418 - val_accuracy: 0.8889\n",
      "Epoch 191/200\n",
      "6/6 [==============================] - 0s 6ms/step - loss: 0.1064 - accuracy: 0.9636 - val_loss: 0.3420 - val_accuracy: 0.8889\n",
      "Epoch 192/200\n",
      "6/6 [==============================] - 0s 6ms/step - loss: 0.1062 - accuracy: 0.9636 - val_loss: 0.3422 - val_accuracy: 0.8889\n",
      "Epoch 193/200\n",
      "6/6 [==============================] - 0s 6ms/step - loss: 0.1060 - accuracy: 0.9636 - val_loss: 0.3424 - val_accuracy: 0.8889\n",
      "Epoch 194/200\n",
      "6/6 [==============================] - 0s 9ms/step - loss: 0.1057 - accuracy: 0.9636 - val_loss: 0.3426 - val_accuracy: 0.8889\n",
      "Epoch 195/200\n",
      "6/6 [==============================] - 0s 7ms/step - loss: 0.1055 - accuracy: 0.9636 - val_loss: 0.3428 - val_accuracy: 0.8889\n",
      "Epoch 196/200\n",
      "6/6 [==============================] - 0s 7ms/step - loss: 0.1053 - accuracy: 0.9636 - val_loss: 0.3430 - val_accuracy: 0.8889\n",
      "Epoch 197/200\n",
      "6/6 [==============================] - 0s 5ms/step - loss: 0.1051 - accuracy: 0.9636 - val_loss: 0.3432 - val_accuracy: 0.8889\n",
      "Epoch 198/200\n",
      "6/6 [==============================] - 0s 6ms/step - loss: 0.1049 - accuracy: 0.9636 - val_loss: 0.3434 - val_accuracy: 0.8889\n",
      "Epoch 199/200\n",
      "6/6 [==============================] - 0s 7ms/step - loss: 0.1046 - accuracy: 0.9636 - val_loss: 0.3436 - val_accuracy: 0.8889\n",
      "Epoch 200/200\n",
      "6/6 [==============================] - 0s 6ms/step - loss: 0.1044 - accuracy: 0.9636 - val_loss: 0.3439 - val_accuracy: 0.8889\n"
     ]
    }
   ],
   "source": [
    "model = Sequential()\n",
    "model.add(Dense(len(X[0])+1,activation='sigmoid', input_dim=len(X[0])))\n",
    "#hidden layer\n",
    "model.add(Dense(len(X[0])+1,activation='sigmoid'))\n",
    "#output layer\n",
    "model.add(Dense(3, activation='sigmoid'))\n",
    "model.compile(optimizer=Adam(learning_rate=0.1), loss='categorical_crossentropy', metrics=['accuracy'])\n",
    "display(model.summary())\n",
    "history = model.fit(X, y,epochs=200,verbose=1,validation_split=0.21,shuffle=False)"
   ]
  },
  {
   "cell_type": "code",
   "execution_count": 290,
   "id": "0f05ce76",
   "metadata": {
    "scrolled": true
   },
   "outputs": [
    {
     "data": {
      "image/png": "[encoded data removed]",
      "text/plain": [
       "<Figure size 432x288 with 1 Axes>"
      ]
     },
     "metadata": {
      "needs_background": "light"
     },
     "output_type": "display_data"
    }
   ],
   "source": [
    "\n",
    "plt.plot(history.history['accuracy'])\n",
    "plt.plot(history.history['val_accuracy'])\n",
    "plt.title('Model accuracy')\n",
    "plt.ylabel('Accuracy')\n",
    "plt.xlabel('Epoch')\n",
    "plt.legend(['Train', 'Validation'], loc=\"upper left\")\n",
    "plt.show()"
   ]
  },
  {
   "cell_type": "code",
   "execution_count": null,
   "id": "5b99aa6e",
   "metadata": {},
   "outputs": [],
   "source": []
  }
 ],
 "metadata": {
  "kernelspec": {
   "display_name": "Python 3",
   "language": "python",
   "name": "python3"
  },
  "language_info": {
   "codemirror_mode": {
    "name": "ipython",
    "version": 3
   },
   "file_extension": ".py",
   "mimetype": "text/x-python",
   "name": "python",
   "nbconvert_exporter": "python",
   "pygments_lexer": "ipython3",
   "version": "3.7.4"
  }
 },
 "nbformat": 4,
 "nbformat_minor": 5
}
