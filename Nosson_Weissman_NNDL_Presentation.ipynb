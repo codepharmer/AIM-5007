{
 "cells": [
  {
   "cell_type": "code",
   "execution_count": 5,
   "id": "6c82fdda",
   "metadata": {},
   "outputs": [],
   "source": [
    "import numpy as np\n",
    "import pandas as pd\n",
    "from tensorflow.keras.models import Sequential\n",
    "from tensorflow import random"
   ]
  },
  {
   "cell_type": "code",
   "execution_count": 7,
   "id": "6c372c4d",
   "metadata": {},
   "outputs": [
    {
     "name": "stdout",
     "output_type": "stream",
     "text": [
      "Num examples in dataset =  10000\n",
      "Number of Features for each example =  10\n",
      "Number of possible output class =  [0 1]\n"
     ]
    }
   ],
   "source": [
    "X = pd.read_csv('https://raw.githubusercontent.com/PacktWorkshops/The-Deep-Learning-with-Keras-Workshop/master/Chapter03/data/tree_class_feats.csv')\n",
    "y = pd.read_csv('https://raw.githubusercontent.com/PacktWorkshops/The-Deep-Learning-with-Keras-Workshop/master/Chapter03/data/tree_class_target.csv')\n",
    "\n",
    "print(\"Num examples in dataset = \",X.shape[0])\n",
    "print(\"Number of Features for each example = \", X.shape[1])\n",
    "print(\"Number of possible output class = \", np.unique(y))"
   ]
  },
  {
   "cell_type": "code",
   "execution_count": null,
   "id": "cbe69602",
   "metadata": {},
   "outputs": [],
   "source": []
  }
 ],
 "metadata": {
  "kernelspec": {
   "display_name": "Python 3",
   "language": "python",
   "name": "python3"
  },
  "language_info": {
   "codemirror_mode": {
    "name": "ipython",
    "version": 3
   },
   "file_extension": ".py",
   "mimetype": "text/x-python",
   "name": "python",
   "nbconvert_exporter": "python",
   "pygments_lexer": "ipython3",
   "version": "3.7.4"
  }
 },
 "nbformat": 4,
 "nbformat_minor": 5
}
