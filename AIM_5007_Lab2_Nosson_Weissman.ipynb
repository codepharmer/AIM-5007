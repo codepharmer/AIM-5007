{
 "cells": [
  {
   "cell_type": "markdown",
   "id": "407bf432",
   "metadata": {},
   "source": [
    "**Nosson Weissman** <br>\n",
    "AIM 5007: Neural Networks and Deep Learning <br>\n",
    "Fall 2021 <br> <br>"
   ]
  },
  {
   "cell_type": "code",
   "execution_count": 3,
   "id": "9abb9016",
   "metadata": {},
   "outputs": [],
   "source": [
    "import numpy as np\n",
    "from prettytable import PrettyTable "
   ]
  },
  {
   "cell_type": "markdown",
   "id": "98ec2acb",
   "metadata": {},
   "source": [
    "## Question 3"
   ]
  },
  {
   "cell_type": "markdown",
   "id": "64dbd683",
   "metadata": {},
   "source": [
    "#### Part A"
   ]
  },
  {
   "cell_type": "code",
   "execution_count": 4,
   "id": "7aa89556",
   "metadata": {},
   "outputs": [],
   "source": [
    "input_layer = np.array([[4,8,6]])\n",
    "\n",
    "target_layer = np.array([[0.65,0.4]])\n",
    "bias_hidden_layer = 0.2\n",
    "bias_output_layer = 0.3\n",
    "hidden_weights = np.array([[0.1,0.3,-0.2],\n",
    "                           [-0.4,0.1,0.2],\n",
    "                           [-0.1,0-.2,0.4]])\n",
    "weights_output = np.array([[0.5,0.2],\n",
    "                           [-0.3,-0.3],\n",
    "                           [0.2,0.1]])\n",
    "hidden_layer = np.dot(input_layer, hidden_weights) + bias_hidden_layer\n",
    "output_layer = np.dot(hidden_layer, weights_output)+ bias_output_layer"
   ]
  },
  {
   "cell_type": "code",
   "execution_count": 5,
   "id": "28ac5574",
   "metadata": {},
   "outputs": [
    {
     "name": "stdout",
     "output_type": "stream",
     "text": [
      "Hidden Layer: [-3.2  1.   3.4]\n",
      "Output Layer: [-0.92 -0.3 ]\n",
      "Transformed Output: [0.28495789 0.42555748]\n"
     ]
    }
   ],
   "source": [
    "def sigmoid(x):\n",
    "    return 1 / (1 + (np.exp(-x)))\n",
    "\n",
    "transformed_output = []\n",
    "\n",
    "for val in output_layer:\n",
    "    transformed_output.append(sigmoid(val))\n",
    "    transformed_output = np.asarray(transformed_output).flatten()\n",
    "    \n",
    "print('Hidden Layer: {}'.format(hidden_layer.flatten()))\n",
    "print('Output Layer: {}'.format(output_layer.flatten()))\n",
    "print('Transformed Output: {}'.format(transformed_output))"
   ]
  },
  {
   "cell_type": "markdown",
   "id": "e36efedf",
   "metadata": {},
   "source": [
    "#### Part B"
   ]
  },
  {
   "cell_type": "code",
   "execution_count": 8,
   "id": "f3ced38f",
   "metadata": {},
   "outputs": [
    {
     "name": "stdout",
     "output_type": "stream",
     "text": [
      "error: 0.0335\n"
     ]
    }
   ],
   "source": [
    "error = .5*(np.linalg.norm(transformed_output-target_layer)**2)\\\n",
    "                /len(transformed_output)\n",
    "print('error: {:.4f}'.format(error))"
   ]
  },
  {
   "cell_type": "markdown",
   "id": "c0091ca5",
   "metadata": {},
   "source": [
    "#### Part C"
   ]
  },
  {
   "cell_type": "code",
   "execution_count": 12,
   "id": "e8a3a558",
   "metadata": {},
   "outputs": [
    {
     "name": "stdout",
     "output_type": "stream",
     "text": [
      "[-8.8743936 -0.8736     2.773248   0.273      9.4290432  0.9282   ]\n"
     ]
    }
   ],
   "source": [
    "#part 1\n",
    "grad_hid1_out1 = (output_layer[:,0]-target_layer[:,0])*output_layer[:,0]*(1-output_layer[:,0])*hidden_layer[:,0]\n",
    "grad_hid2_out1 = (output_layer[:,0]-target_layer[:,0])*output_layer[:,0]*(1-output_layer[:,0])*hidden_layer[:,1]\n",
    "grad_hid3_out1 = (output_layer[:,0]-target_layer[:,0])*output_layer[:,0]*(1-output_layer[:,0])*hidden_layer[:,2]\n",
    "grad_hid1_out2 = (output_layer[:,1]-target_layer[:,1])*output_layer[:,1]*(1-output_layer[:,1])*hidden_layer[:,0]\n",
    "grad_hid2_out2 = (output_layer[:,1]-target_layer[:,1])*output_layer[:,1]*(1-output_layer[:,1])*hidden_layer[:,1]\n",
    "grad_hid3_out2 = (output_layer[:,1]-target_layer[:,1])*output_layer[:,1]*(1-output_layer[:,1])*hidden_layer[:,2]\n",
    "\n",
    "hidden_to_out_grads = np.asarray([grad_hid1_out1,grad_hid1_out2,\n",
    "                                  grad_hid2_out1,grad_hid2_out2,\n",
    "                                  grad_hid3_out1,grad_hid3_out2]).flatten()\n",
    "print(hidden_to_out_grads)"
   ]
  },
  {
   "cell_type": "code",
   "execution_count": 18,
   "id": "b29e8593",
   "metadata": {},
   "outputs": [
    {
     "name": "stdout",
     "output_type": "stream",
     "text": [
      "2.7732479999999993\n"
     ]
    }
   ],
   "source": [
    "#part 2\n",
    "\n",
    "for i in range(len(output_layer)):\n",
    "    bias = sum(output_layer[:,i]-target_layer[:,i])\\\n",
    "            *output_layer[:,i]*(1-output_layer[:,i])\n",
    "    print(bias.tolist()[0])"
   ]
  },
  {
   "cell_type": "code",
   "execution_count": 21,
   "id": "ec24c9c0",
   "metadata": {},
   "outputs": [
    {
     "name": "stdout",
     "output_type": "stream",
     "text": [
      "[ 20.9880832   -8.9138744  -25.22137136  46.5880832  -16.9138744\n",
      " -52.42137136  33.7880832  -12.9138744  -38.82137136]\n"
     ]
    }
   ],
   "source": [
    "#part 3\n",
    "op_zero = output_layer[:,0]\n",
    "op_minus_tl_col_zero = output_layer[:,0]-target_layer[:,0]\n",
    "grad_inp1_hid1 = (op_minus_tl_col_zero)*op_zero*(1-op_zero)*weights_output[0,0]*hidden_layer[:,0]*1-hidden_layer[:,0]*input_layer[:,0]+(output_layer[:,1]-target_layer[:,1])*output_layer[:,1]*(1-output_layer[:,1])*weights_output[0,1]*hidden_layer[:,0]*1-hidden_layer[:,0]*input_layer[:,0]\n",
    "grad_inp1_hid2 = (op_minus_tl_col_zero)*op_zero*(1-op_zero)*weights_output[1,0]*hidden_layer[:,1]*1-hidden_layer[:,1]*input_layer[:,0]+(output_layer[:,1]-target_layer[:,1])*output_layer[:,1]*(1-output_layer[:,1])*weights_output[1,1]*hidden_layer[:,1]*1-hidden_layer[:,1]*input_layer[:,0]\n",
    "grad_inp1_hid3 = (op_minus_tl_col_zero)*op_zero*(1-op_zero)*weights_output[2,0]*hidden_layer[:,2]*1-hidden_layer[:,2]*input_layer[:,0]+(output_layer[:,1]-target_layer[:,1])*output_layer[:,1]*(1-output_layer[:,1])*weights_output[2,1]*hidden_layer[:,2]*1-hidden_layer[:,2]*input_layer[:,0]\n",
    "grad_inp2_hid1 = (op_minus_tl_col_zero)*op_zero*(1-op_zero)*weights_output[0,0]*hidden_layer[:,0]*1-hidden_layer[:,0]*input_layer[:,1]+(output_layer[:,1]-target_layer[:,1])*output_layer[:,1]*(1-output_layer[:,1])*weights_output[0,1]*hidden_layer[:,0]*1-hidden_layer[:,0]*input_layer[:,1]\n",
    "grad_inp2_hid2 = (op_minus_tl_col_zero)*op_zero*(1-op_zero)*weights_output[1,0]*hidden_layer[:,1]*1-hidden_layer[:,1]*input_layer[:,1]+(output_layer[:,1]-target_layer[:,1])*output_layer[:,1]*(1-output_layer[:,1])*weights_output[1,1]*hidden_layer[:,1]*1-hidden_layer[:,1]*input_layer[:,1]\n",
    "grad_inp2_hid3 = (op_minus_tl_col_zero)*op_zero*(1-op_zero)*weights_output[2,0]*hidden_layer[:,2]*1-hidden_layer[:,2]*input_layer[:,1]+(output_layer[:,1]-target_layer[:,1])*output_layer[:,1]*(1-output_layer[:,1])*weights_output[2,1]*hidden_layer[:,2]*1-hidden_layer[:,2]*input_layer[:,1]\n",
    "grad_inp3_hid1 = (op_minus_tl_col_zero)*op_zero*(1-op_zero)*weights_output[0,0]*hidden_layer[:,0]*1-hidden_layer[:,0]*input_layer[:,2]+(output_layer[:,1]-target_layer[:,1])*output_layer[:,1]*(1-output_layer[:,1])*weights_output[0,1]*hidden_layer[:,0]*1-hidden_layer[:,0]*input_layer[:,2]\n",
    "grad_inp3_hid2 = (op_minus_tl_col_zero)*op_zero*(1-op_zero)*weights_output[1,0]*hidden_layer[:,1]*1-hidden_layer[:,1]*input_layer[:,2]+(output_layer[:,1]-target_layer[:,1])*output_layer[:,1]*(1-output_layer[:,1])*weights_output[1,1]*hidden_layer[:,1]*1-hidden_layer[:,1]*input_layer[:,2]\n",
    "grad_inp3_hid3 = (op_minus_tl_col_zero)*op_zero*(1-op_zero)*weights_output[2,0]*hidden_layer[:,2]*1-hidden_layer[:,2]*input_layer[:,2]+(output_layer[:,1]-target_layer[:,1])*output_layer[:,1]*(1-output_layer[:,1])*weights_output[2,1]*hidden_layer[:,2]*1-hidden_layer[:,2]*input_layer[:,2]\n",
    "\n",
    "input_to_hidden_gradients = np.asarray([grad_inp1_hid1,grad_inp1_hid2,grad_inp1_hid3,\n",
    "                                        grad_inp2_hid1,grad_inp2_hid2,grad_inp2_hid3,\n",
    "                                        grad_inp3_hid1,grad_inp3_hid2,grad_inp3_hid3]).flatten()\n",
    "print(input_to_hidden_gradients)"
   ]
  },
  {
   "cell_type": "code",
   "execution_count": 22,
   "id": "bce7c2b9",
   "metadata": {},
   "outputs": [
    {
     "name": "stdout",
     "output_type": "stream",
     "text": [
      "-7.485458559999999\n"
     ]
    }
   ],
   "source": [
    "#part 4\n",
    "K = len(output_layer)\n",
    "J = len(hidden_layer)\n",
    "\n",
    "for k in range(K):\n",
    "    for j in range(J):\n",
    "        bias2 = sum((output_layer[:,i]-target_layer[:,i])*output_layer[:,i]*(1-output_layer[:,i]*weights_output[j,k]*hidden_layer[:,j]*(1-hidden_layer[:,j])))\n",
    "        print(bias2)"
   ]
  },
  {
   "cell_type": "code",
   "execution_count": 25,
   "id": "2f3845c2",
   "metadata": {},
   "outputs": [
    {
     "name": "stdout",
     "output_type": "stream",
     "text": [
      "+----------------+--------------+---------------------+\n",
      "| Link from Node | Link to Node |       Gradient      |\n",
      "+----------------+--------------+---------------------+\n",
      "|     Input1     |   Hidden1    |  20.988083200000002 |\n",
      "|     Input1     |   Hidden2    |  -8.913874400000001 |\n",
      "|     Input1     |   Hidden3    | -25.221371360000003 |\n",
      "|     Input2     |   Hidden1    |      46.5880832     |\n",
      "|     Input2     |   Hidden2    | -16.913874399999997 |\n",
      "|     Input2     |   Hidden3    |  -52.42137136000001 |\n",
      "|     Input3     |   Hidden1    |      33.7880832     |\n",
      "|     Input3     |   Hidden2    | -12.913874400000001 |\n",
      "|     Input3     |   Hidden3    |     -38.82137136    |\n",
      "|    Hidden1     |     Out1     |  -8.874393599999998 |\n",
      "|    Hidden1     |     Out2     | -0.8736000000000006 |\n",
      "|    Hidden2     |     Out1     |  2.7732479999999993 |\n",
      "|    Hidden2     |     Out2     |  0.2730000000000002 |\n",
      "|    Hidden3     |     Out1     |  9.429043199999999  |\n",
      "|    Hidden3     |     Out2     |  0.9282000000000007 |\n",
      "+----------------+--------------+---------------------+\n",
      "+--------+--------------------+\n",
      "| Layer  |        Bias        |\n",
      "+--------+--------------------+\n",
      "| Hidden | 2.7732479999999993 |\n",
      "| Output | -7.485458559999999 |\n",
      "+--------+--------------------+\n"
     ]
    }
   ],
   "source": [
    "table1_columns = ['Link from Node','Link to Node','Gradient']\n",
    "Link_from_node = ['Input1','Input1','Input1',\n",
    "                  'Input2','Input2','Input2',\n",
    "                  'Input3','Input3','Input3',\n",
    "                  'Hidden1','Hidden1','Hidden2',\n",
    "                  'Hidden2','Hidden3','Hidden3']\n",
    "Link_to_node = ['Hidden1','Hidden2','Hidden3',\n",
    "                'Hidden1','Hidden2','Hidden3',\n",
    "                'Hidden1','Hidden2','Hidden3',\n",
    "               'Out1','Out2','Out1','Out2','Out1','Out2']\n",
    "\n",
    "Gradients = input_to_hidden_gradients.tolist() + hidden_to_out_grads.tolist()\n",
    "myTable = PrettyTable()\n",
    "\n",
    "myTable.add_column(table1_columns[0], Link_from_node)\n",
    "myTable.add_column(table1_columns[1], Link_to_node)\n",
    "myTable.add_column(table1_columns[2], Gradients)\n",
    "print(myTable)\n",
    "\n",
    "table2_columns = ['Layer','Bias']\n",
    "layers = ['Hidden','Output']\n",
    "bias = [bias1[0],bias2]\n",
    "myTable1 = PrettyTable()\n",
    "myTable1.add_column(table2_columns[0], layers)\n",
    "myTable1.add_column(table2_columns[1], bias)\n",
    "print(myTable1)"
   ]
  },
  {
   "cell_type": "code",
   "execution_count": null,
   "id": "5c904ace",
   "metadata": {},
   "outputs": [],
   "source": []
  }
 ],
 "metadata": {
  "kernelspec": {
   "display_name": "Python 3",
   "language": "python",
   "name": "python3"
  },
  "language_info": {
   "codemirror_mode": {
    "name": "ipython",
    "version": 3
   },
   "file_extension": ".py",
   "mimetype": "text/x-python",
   "name": "python",
   "nbconvert_exporter": "python",
   "pygments_lexer": "ipython3",
   "version": "3.7.4"
  }
 },
 "nbformat": 4,
 "nbformat_minor": 5
}
