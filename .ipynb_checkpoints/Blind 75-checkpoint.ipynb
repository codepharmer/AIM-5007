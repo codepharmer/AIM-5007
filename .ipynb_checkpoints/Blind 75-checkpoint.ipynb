{
 "cells": [
  {
   "cell_type": "markdown",
   "id": "70b45908",
   "metadata": {},
   "source": [
    "# Solutions for Blind 75"
   ]
  },
  {
   "cell_type": "markdown",
   "id": "06b6999c",
   "metadata": {},
   "source": [
    "## 1. Two Sum"
   ]
  },
  {
   "cell_type": "markdown",
   "id": "adfae1b1",
   "metadata": {},
   "source": [
    " Problem: Given an array of integers and an integer n, find two integers a,b $s.t. a+b == n. $ <br>\n",
    "Then return their indices."
   ]
  },
  {
   "cell_type": "code",
   "execution_count": 8,
   "id": "d531410a",
   "metadata": {},
   "outputs": [],
   "source": [
    "def two_sum(nums, target):\n",
    "        for i in range(len(nums)):\n",
    "            for j in range(len(nums)):\n",
    "                if i != j and (nums[i] + nums[j]) == target:\n",
    "                    return [i, j]\n",
    "        \n",
    "        raise Exception('No match found')\n",
    "        "
   ]
  },
  {
   "cell_type": "markdown",
   "id": "62616a7c",
   "metadata": {},
   "source": [
    "The code above will find us an answer in O(n^2) time <br>\n",
    "### But can we do better?"
   ]
  },
  {
   "cell_type": "code",
   "execution_count": 9,
   "id": "f5175bde",
   "metadata": {},
   "outputs": [],
   "source": [
    "def two_sum_faster(nums, target):\n",
    "    #we make use of a dictionary which has O(1) lookup time\n",
    "        index_dict = dict()\n",
    "        \n",
    "        for i in range(len(nums)):\n",
    "            complement = target - nums[i]\n",
    "            if complement in index_dict:\n",
    "                return [index_dict[complement], i]\n",
    "            index_dict[nums[i]] = i\n",
    "                \n",
    "        raise Exception('No match found')"
   ]
  },
  {
   "cell_type": "code",
   "execution_count": 13,
   "id": "8f714c7a",
   "metadata": {},
   "outputs": [
    {
     "data": {
      "text/plain": [
       "[4, 5]"
      ]
     },
     "execution_count": 13,
     "metadata": {},
     "output_type": "execute_result"
    }
   ],
   "source": [
    "twoSumFaster([1,2,3,4,7,7], 14)"
   ]
  },
  {
   "cell_type": "markdown",
   "id": "73a0ac23",
   "metadata": {},
   "source": [
    "## 2. Max Profit (L.C.121)"
   ]
  },
  {
   "cell_type": "markdown",
   "id": "24db2d34",
   "metadata": {},
   "source": [
    "Problem: Given an array of stock prices over time, find the maximum profit which can be made by buying and then selling a stock."
   ]
  },
  {
   "cell_type": "code",
   "execution_count": 12,
   "id": "2e5dd655",
   "metadata": {},
   "outputs": [],
   "source": [
    " def max_profit(prices):\n",
    "        \n",
    "#         max_profit = -float(\"inf\")\n",
    "#         min_num = float(\"inf\")\n",
    "        \n",
    "#         for i in range(len(prices)):\n",
    "#             for j in range(i, len(prices)):\n",
    "#                 current_profit = prices[j] - prices[i]\n",
    "#                 max_profit = max(current_profit, max_profit)\n",
    "                \n",
    "#         max_profit = max(0, max_profit) \n",
    "#         return max_profit\n",
    "    max_profit = 0\n",
    "    min_price = float(\"inf\")\n",
    "\n",
    "    for i in range(len(prices)):\n",
    "        current_price = prices[i]\n",
    "        if current_price < min_price:\n",
    "            min_price = current_price\n",
    "        else:\n",
    "            max_profit = max(current_price, max_profit)\n",
    "\n",
    "    return max_profit"
   ]
  },
  {
   "cell_type": "markdown",
   "id": "3902e606",
   "metadata": {},
   "source": [
    "## 3. Contains Duplicate"
   ]
  },
  {
   "cell_type": "markdown",
   "id": "3aac718b",
   "metadata": {},
   "source": [
    "Problem: Given an array of integers, return true if an entry appears twice, false otherwise."
   ]
  },
  {
   "cell_type": "code",
   "execution_count": null,
   "id": "3e817eef",
   "metadata": {},
   "outputs": [],
   "source": [
    "def containsDuplicateUsingSorting(nums):\n",
    "    if not nums:\n",
    "        return False\n",
    "    sorted_nums = sorted(nums)\n",
    "\n",
    "    for i in range(1, len(sorted_nums)):\n",
    "        if sorted_nums[i] == sorted_nums[i-1]:\n",
    "            return True\n",
    "    return False\n",
    "\n",
    "def containsDuplicateUsingSet(self, nums: List[int]) -> bool:\n",
    "        if not nums:\n",
    "            return False\n",
    "        \n",
    "        num_set = set()\n",
    "        \n",
    "        for num in nums:\n",
    "            if num in num_set:\n",
    "                return True\n",
    "            else:\n",
    "                num_set.add(num)\n",
    "        return False"
   ]
  },
  {
   "cell_type": "markdown",
   "id": "c10f7779",
   "metadata": {},
   "source": [
    "## 4. Product Except Self (LC 238)"
   ]
  },
  {
   "cell_type": "markdown",
   "id": "ed2a2a85",
   "metadata": {},
   "source": [
    "Problem: Given an array of integers **A** of length $n$ return an array of integers **B** s.t. $\\forall i \\in $ **B** $$ B[i] = \\prod_0^{i-1} A[i] * \\prod_{i+1}^{n-1} A[i] $$ <br> i.e Where each index i of B points to the product of all the numbers in A excluding the number at A[i]. Division may not be used"
   ]
  },
  {
   "cell_type": "code",
   "execution_count": 13,
   "id": "5a627708",
   "metadata": {},
   "outputs": [
    {
     "data": {
      "text/plain": [
       "[]"
      ]
     },
     "execution_count": 13,
     "metadata": {},
     "output_type": "execute_result"
    }
   ],
   "source": [
    "def productExceptSelf(nums):\n",
    "    if not nums or len(nums) < 2:\n",
    "        return []\n",
    "    product_below_i = [None] * (len(nums))\n",
    "    product_above_i = [None] * (len(nums))\n",
    "    product_below_i[0] = 1\n",
    "    product_above_i[-1] = 1\n",
    "    product_below = 1\n",
    "    product_above = 1\n",
    "    for i in range(len(nums)):\n",
    "        product_below_i[i] = product_below\n",
    "        product_below *= nums[i]\n",
    "        product_above_i[len(nums) - i - 1] = product_above\n",
    "        product_above *= nums[len(nums) - i - 1]\n",
    "\n",
    "    product_except_self = [None] * len(nums)\n",
    "    for i in range(len(nums)):\n",
    "        product_except_self[i] = product_below_i[i]*product_above_i[i]\n",
    "    return product_except_self\n",
    "productExceptSelf([4])"
   ]
  },
  {
   "cell_type": "code",
   "execution_count": null,
   "id": "1ee24104",
   "metadata": {},
   "outputs": [],
   "source": []
  }
 ],
 "metadata": {
  "kernelspec": {
   "display_name": "Python 3",
   "language": "python",
   "name": "python3"
  },
  "language_info": {
   "codemirror_mode": {
    "name": "ipython",
    "version": 3
   },
   "file_extension": ".py",
   "mimetype": "text/x-python",
   "name": "python",
   "nbconvert_exporter": "python",
   "pygments_lexer": "ipython3",
   "version": "3.7.4"
  }
 },
 "nbformat": 4,
 "nbformat_minor": 5
}
